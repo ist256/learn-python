{
 "cells": [
  {
   "cell_type": "markdown",
   "metadata": {
    "slideshow": {
     "slide_type": "slide"
    }
   },
   "source": [
    "# IST256 Lesson 03\n",
    "## Conditionals\n",
    "\n",
    "\n",
    "- Zybook Ch3\n",
    "- P4E Ch3\n",
    "\n",
    "\n",
    "## Links\n",
    "\n",
    "- Participation: [https://poll.ist256.com](https://poll.ist256.com)\n",
    "- Zoom Chat!!!\n"
   ]
  },
  {
   "cell_type": "markdown",
   "metadata": {
    "slideshow": {
     "slide_type": "slide"
    }
   },
   "source": [
    "# Agenda\n",
    "\n",
    "- Homework 02 Solution\n",
    "\n",
    "- Non-Linear Code Execution\n",
    "- Relational and Logical Operators\n",
    "- Different types of non-linear execution.\n",
    "- Run-Time error handling\n"
   ]
  },
  {
   "cell_type": "markdown",
   "metadata": {
    "slideshow": {
     "slide_type": "slide"
    }
   },
   "source": [
    "# Connect Activity \n",
    "\n",
    "A Boolean value is a/an ______?\n",
    "\n",
    " A. `True or False value`  \n",
    " B. `Zero-based value`  \n",
    " C. `Non-Negative value`  \n",
    " D. `Alphanumeric value`\n",
    "\n",
    "### Vote Now: [https://poll.ist256.com](https://poll.ist256.com)"
   ]
  },
  {
   "cell_type": "markdown",
   "metadata": {
    "slideshow": {
     "slide_type": "slide"
    }
   },
   "source": [
    "# What is a Boolean Expression?\n",
    "\n",
    "- A **Boolean expression** evaluates to a **Boolean value** of <font color='red'> True </font> or <font color='green'> False </font>. \n",
    "\n",
    "- Boolean expressions ask questions.  \n",
    "   - GPA >3.2  <span>&#8594;</span>  Is GPA greater than 3.2?  \n",
    "   \n",
    "- The result of which is <font color='red'> True </font> or <font color='green'> False </font> based on the evaluation of the expression:  \n",
    "   - GPA = 4.0 <span>&#8594;</span>  GPA > 3.2  <span>&#8594;</span>  <font color='red'> True </font>  \n",
    "   - GPA = 2.0 <span>&#8594;</span>  GPA > 3.2  <span>&#8594;</span>  <font color='green'> False </font>\n"
   ]
  },
  {
   "cell_type": "markdown",
   "metadata": {
    "slideshow": {
     "slide_type": "slide"
    }
   },
   "source": [
    "# Program Flow Control with IF\n",
    "\n",
    "- The **IF** statement is used to branch your code based on a Boolean expression.  \n",
    "  "
   ]
  },
  {
   "cell_type": "code",
   "execution_count": null,
   "metadata": {
    "slideshow": {
     "slide_type": "fragment"
    }
   },
   "outputs": [],
   "source": [
    "if boolean-expression:\n",
    "    statements-when-true\n",
    "else:\n",
    "    statemrnts-when-false"
   ]
  },
  {
   "cell_type": "markdown",
   "metadata": {
    "slideshow": {
     "slide_type": "slide"
    }
   },
   "source": [
    "# Python’s Relational Operators \n",
    "\n",
    "<table style=\"font-size:1.2em;\">\n",
    "    <thead><tr>\n",
    "        <th>Operator</th>\n",
    "        <th>What it does</th>\n",
    "        <th>Examples</th>\n",
    "    </tr></thead>\n",
    "    <tbody>\n",
    "    <tr>\n",
    "        <td><code> > </code></td>\n",
    "        <td> Greater than </td>\n",
    "        <td> 4>2 (True)</td>\n",
    "    </tr>\n",
    "    <tr>\n",
    "        <td><code> < </code></td>\n",
    "        <td> Less than </td>\n",
    "        <td> 4<2 (False)</td>\n",
    "    </tr>\n",
    "    <tr>\n",
    "        <td><code> == </code></td>\n",
    "        <td> Equal To </td>\n",
    "        <td> 4==2 (False)</td>\n",
    "    </tr>\n",
    "    <tr>\n",
    "        <td><code> != </code></td>\n",
    "        <td> Not Equal To </td>\n",
    "        <td> 4!=2 (True)</td>\n",
    "    </tr>\n",
    "    <tr>\n",
    "        <td><code> >= </code></td>\n",
    "        <td> Greater Than or Equal To </td>\n",
    "        <td> 4>=2 (True)</td>\n",
    "    <tr>\n",
    "        <td><code> <= </code></td>\n",
    "        <td> Less Than or Equal To </td>\n",
    "        <td> 4<=2 (True)</td>\n",
    "    </tr>\n",
    "  </tbody>\n",
    "</table>\n",
    "\n",
    "Expressions consisting of relational operators evaluate to a **Boolean** value\n"
   ]
  },
  {
   "cell_type": "markdown",
   "metadata": {
    "slideshow": {
     "slide_type": "slide"
    }
   },
   "source": [
    "# Watch Me Code 1!\n",
    "```\n",
    "  Do you need more milk?  \n",
    "    \n",
    "  When the Fudge family has less than 1 gallon of milk, \n",
    "  we need more!\n",
    "```"
   ]
  },
  {
   "cell_type": "markdown",
   "metadata": {
    "slideshow": {
     "slide_type": "slide"
    }
   },
   "source": [
    "# Check Yourself: Relational Operators\n",
    "\n",
    "On Which line number is the Boolean expression True?  "
   ]
  },
  {
   "cell_type": "code",
   "execution_count": null,
   "metadata": {
    "slideshow": {
     "slide_type": "fragment"
    }
   },
   "outputs": [],
   "source": [
    "x = 15\n",
    "y = 20\n",
    "z = 2\n",
    "x > y\n",
    "z*x <= y\n",
    "y >= x-z\n",
    "z*10 == x"
   ]
  },
  {
   "cell_type": "markdown",
   "metadata": {
    "slideshow": {
     "slide_type": "fragment"
    }
   },
   "source": [
    "A. `4`  \n",
    "B. `5`  \n",
    "C. `6`  \n",
    "D. `7`  \n",
    "### Vote Now: [https://poll.ist256.com](https://poll.ist256.com)"
   ]
  },
  {
   "cell_type": "markdown",
   "metadata": {
    "slideshow": {
     "slide_type": "slide"
    }
   },
   "source": [
    "# Python’s Logical Operators\n",
    "\n",
    "<table style=\"font-size:1.2em;\">\n",
    "    <thead><tr>\n",
    "        <th>Operator</th>\n",
    "        <th>What it does</th>\n",
    "        <th>Examples</th>\n",
    "    </tr></thead>\n",
    "    <tbody>\n",
    "    <tr>\n",
    "        <td><code> and </code></td>\n",
    "        <td> True only when both are True </td>\n",
    "        <td> 4>2 and 4<5 (True)</td>\n",
    "    </tr>\n",
    "    <tr>\n",
    "        <td><code> or </code></td>\n",
    "        <td> False only when both are False </td>\n",
    "        <td> 4<2 or 4==4 (True)</td>\n",
    "    </tr>\n",
    "    <tr>\n",
    "        <td><code> not </code></td>\n",
    "        <td> Negation(Opposite) </td>\n",
    "        <td> not 4==2 (True)</td>\n",
    "    </tr>\n",
    "    <tr>\n",
    "        <td><code> in </code></td>\n",
    "        <td> Set operator </td>\n",
    "        <td> 4 in [2,4,7] (True)</td>\n",
    "    </tr>\n",
    "  </tbody>\n",
    "</table>\n",
    "\n"
   ]
  },
  {
   "cell_type": "markdown",
   "metadata": {
    "slideshow": {
     "slide_type": "slide"
    }
   },
   "source": [
    "# Check Yourself: Logical Operators\n",
    "\n",
    "On Which line number is the Boolean expression True?  "
   ]
  },
  {
   "cell_type": "code",
   "execution_count": null,
   "metadata": {
    "slideshow": {
     "slide_type": "fragment"
    }
   },
   "outputs": [],
   "source": [
    "raining = False\n",
    "snowing = True\n",
    "age = 45\n",
    "age < 18 and raining\n",
    "age >= 18 and not snowing\n",
    "not snowing or not raining\n",
    "age == 45 and not snowing"
   ]
  },
  {
   "cell_type": "markdown",
   "metadata": {
    "slideshow": {
     "slide_type": "fragment"
    }
   },
   "source": [
    "A. `4`  \n",
    "B. `5`  \n",
    "C. `6`  \n",
    "D. `7`  \n",
    "### Vote Now: [https://poll.ist256.com](https://poll.ist256.com)"
   ]
  },
  {
   "cell_type": "markdown",
   "metadata": {
    "slideshow": {
     "slide_type": "slide"
    }
   },
   "source": [
    "# Multiple Decisions: IF ladder\n",
    "\n",
    "Use elif to make more than one decision in your if statement. Only one code block within the ladder is executed."
   ]
  },
  {
   "cell_type": "code",
   "execution_count": null,
   "metadata": {
    "slideshow": {
     "slide_type": "fragment"
    }
   },
   "outputs": [],
   "source": [
    "if boolean-expression1:\n",
    "    statements-when-exp1-true\n",
    "elif boolean-expression2:\n",
    "    statements-when-exp2-true\n",
    "elif boolean-expression3:\n",
    "    statements-when-exp3-true\n",
    "else:  \n",
    "    statements-none-are-true"
   ]
  },
  {
   "cell_type": "markdown",
   "metadata": {
    "slideshow": {
     "slide_type": "slide"
    }
   },
   "source": [
    "# elif versus a series of if statements\n"
   ]
  },
  {
   "cell_type": "code",
   "execution_count": 3,
   "metadata": {
    "slideshow": {
     "slide_type": "fragment"
    }
   },
   "outputs": [
    {
     "name": "stdout",
     "output_type": "stream",
     "text": [
      "enter an integer10\n"
     ]
    }
   ],
   "source": [
    "x = int(input(\"enter an integer\"))\n",
    "# one single statement. only one block executes\n",
    "if x>10:\n",
    "    print(\"A:bigger than 10\")\n",
    "elif x>20:\n",
    "    print(\"A:bigger than 20\")    \n",
    "# Independent if's, each True Boolean executes a block\n",
    "if x>10:\n",
    "    print(\"B:bigger than 10\")\n",
    "    \n",
    "if x>20:\n",
    "    print(\"B:bigger than 20\")"
   ]
  },
  {
   "cell_type": "markdown",
   "metadata": {
    "slideshow": {
     "slide_type": "slide"
    }
   },
   "source": [
    "# Check Yourself: IF Statement\n",
    "\n",
    "Assuming values ` x = 77 and y = 2` what value is printed?"
   ]
  },
  {
   "cell_type": "code",
   "execution_count": null,
   "metadata": {
    "slideshow": {
     "slide_type": "fragment"
    }
   },
   "outputs": [],
   "source": [
    "if x > 20:\n",
    "    if y == 4:\n",
    "        print(\"One\")\n",
    "    elif y > 4:\n",
    "        print(\"Two\")\n",
    "    else:\n",
    "        print(\"Three\")\n",
    "else:\n",
    "    print(\"Four\")"
   ]
  },
  {
   "cell_type": "markdown",
   "metadata": {
    "slideshow": {
     "slide_type": "fragment"
    }
   },
   "source": [
    "A. `One`  \n",
    "B. `Two`  \n",
    "C. `Three`  \n",
    "D. `Four`  \n",
    "### Vote Now: [https://poll.ist256.com](https://poll.ist256.com)"
   ]
  },
  {
   "cell_type": "markdown",
   "metadata": {
    "slideshow": {
     "slide_type": "slide"
    }
   },
   "source": [
    "# End-To-End Example, Part 1:\n",
    "\n",
    "### Tax Calculations!  \n",
    "- The country of “Fudgebonia” determines your tax rate from the number of dependents:  \n",
    "   - 0 <span>&#8594;</span> 30%  \n",
    "   - 1 <span>&#8594;</span> 25%  \n",
    "   - 2 <span>&#8594;</span> 18%   \n",
    "   - 3 or more <span>&#8594;</span> 10%  \n",
    "   \n",
    "- Write a program to prompt for number of dependents (0-3) and annual income.  \n",
    "\n",
    "- It should then calculate your tax rate and tax bill. Format numbers properly!  \n"
   ]
  },
  {
   "cell_type": "markdown",
   "metadata": {
    "slideshow": {
     "slide_type": "slide"
    }
   },
   "source": [
    "# Handle Bad Input with Exceptions\n",
    "\n",
    "- **Exceptions** represent a class of errors which occur at **run-time**. \n",
    "- We’ve seen these before when run a program and it crashes due to **bad input**. And we get a **TypeError** or **ValueError**.\n",
    "- Python provides a mechanism **try .. except** to catch these errors at run-time and prevent your program from crashing.\n",
    "- **Exceptions are <i>exceptional</i>**. They should ONLY be used to handle unforeseen errors in program input. \n"
   ]
  },
  {
   "cell_type": "markdown",
   "metadata": {
    "slideshow": {
     "slide_type": "slide"
    }
   },
   "source": [
    "# Try…Except…Finally\n",
    "\n",
    "The Try... Except statement is used to handle exceptions. Remember that exceptions catch **run-time** errors!"
   ]
  },
  {
   "cell_type": "code",
   "execution_count": null,
   "metadata": {
    "slideshow": {
     "slide_type": "fragment"
    }
   },
   "outputs": [],
   "source": [
    "try:\n",
    "    statements-which\n",
    "    might-throw-an-error\n",
    "except errorType1:\n",
    "    code-when-Type1-happens\n",
    "except errorType2:\n",
    "    code-when-Type2-happens\n",
    "finally:\n",
    "    code-happens-regardless\n"
   ]
  },
  {
   "cell_type": "markdown",
   "metadata": {
    "slideshow": {
     "slide_type": "slide"
    }
   },
   "source": [
    "# Watch Me Code 2\n",
    "\n",
    "The need for an exception handling:\n",
    "- Bad input\n",
    "- try except finally\n",
    "- Good practice of catching the specific error\n"
   ]
  },
  {
   "cell_type": "markdown",
   "metadata": {
    "slideshow": {
     "slide_type": "slide"
    }
   },
   "source": [
    "## Check Yourself: Conditionals Try/Except\n",
    "\n",
    "What prints on line 9 when you input the value **'-45s'**?"
   ]
  },
  {
   "cell_type": "code",
   "execution_count": null,
   "metadata": {
    "slideshow": {
     "slide_type": "fragment"
    }
   },
   "outputs": [],
   "source": [
    "try:\n",
    "    x = float(input(\"Enter a number: \"))\n",
    "    if x > 0:\n",
    "        y =  \"a\"\n",
    "    else:\n",
    "        y = \"b\"\n",
    "except ValueError:\n",
    "    y = \"c\"\n",
    "print(y)"
   ]
  },
  {
   "cell_type": "markdown",
   "metadata": {
    "slideshow": {
     "slide_type": "fragment"
    }
   },
   "source": [
    "A. `'a'`  \n",
    "B. `'b'`    \n",
    "C. `'c'`\n",
    "### Vote Now: [https://poll.ist256.com](https://poll.ist256.com)\n"
   ]
  },
  {
   "cell_type": "markdown",
   "metadata": {
    "slideshow": {
     "slide_type": "slide"
    }
   },
   "source": [
    "# End-To-End Example, Part 2:\n",
    "\n",
    "### Tax Calculations!\n",
    "- Modify “Fudgebonia” tax calculations to handle bad inputs so that it will not generate run-time errors.\n"
   ]
  },
  {
   "cell_type": "markdown",
   "metadata": {
    "slideshow": {
     "slide_type": "slide"
    }
   },
   "source": [
    "# Conclusion Activity Exit Ticket\n",
    "\n",
    "### 1 Question Challenge  \n",
    "\n",
    "When <font color='green'>x = 12, y = 20</font>   \n",
    "What is the value of this Boolean expression?   \n",
    "<font color='green'>x < y and not y==20</font>\n",
    "\n",
    "A. True  \n",
    "B. False  \n",
    "\n",
    "### Vote Now: [https://poll.ist256.com](https://poll.ist256.com)\n"
   ]
  }
 ],
 "metadata": {
  "celltoolbar": "Slideshow",
  "kernelspec": {
   "display_name": "Python 3",
   "language": "python",
   "name": "python3"
  },
  "language_info": {
   "codemirror_mode": {
    "name": "ipython",
    "version": 3
   },
   "file_extension": ".py",
   "mimetype": "text/x-python",
   "name": "python",
   "nbconvert_exporter": "python",
   "pygments_lexer": "ipython3",
   "version": "3.8.6"
  },
  "toc": {
   "base_numbering": 1,
   "nav_menu": {},
   "number_sections": false,
   "sideBar": false,
   "skip_h1_title": false,
   "title_cell": "Table of Contents",
   "title_sidebar": "Contents",
   "toc_cell": false,
   "toc_position": {},
   "toc_section_display": false,
   "toc_window_display": false
  }
 },
 "nbformat": 4,
 "nbformat_minor": 2
}
