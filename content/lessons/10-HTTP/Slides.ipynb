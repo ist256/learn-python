{
 "cells": [
  {
   "cell_type": "markdown",
   "metadata": {
    "slideshow": {
     "slide_type": "slide"
    }
   },
   "source": [
    "# IST256 Lesson 10\n",
    "## HTTP and Network Programming\n",
    "\n",
    "\n",
    "- Assigned Readings From  \n",
    "  https://ist256.github.io/spring2021/readings/Web-APIs-In-Python.html\n",
    "\n",
    "## Links\n",
    "\n",
    "- Participation: [https://poll.ist256.com](https://poll.ist256.com)\n",
    "- In-Class Questions: ZOOM CHAT!"
   ]
  },
  {
   "cell_type": "markdown",
   "metadata": {
    "slideshow": {
     "slide_type": "slide"
    }
   },
   "source": [
    "# Agenda\n",
    "\n",
    "- Homework\n",
    "\n",
    "- How the Web Works\n",
    "- Making HTTP requests using the Python requests module\n",
    "- Parsing json responses into Python objects\n",
    "- Procedure for calling API's\n",
    "- How to read API documentation\n"
   ]
  },
  {
   "cell_type": "markdown",
   "metadata": {
    "slideshow": {
     "slide_type": "skip"
    }
   },
   "source": [
    "# Project (49 out of 250 points)\n",
    "\n",
    "- http://ist256.com/syllabus/#project-p1-p4\n",
    "- No grade until the end. only feedback.\n",
    "- Project documents will be released after the 3rd exam.\n"
   ]
  },
  {
   "cell_type": "markdown",
   "metadata": {
    "slideshow": {
     "slide_type": "slide"
    }
   },
   "source": [
    "# FEQT (Future Exam Questions Training) 1\n",
    "\n",
    "What is the output of the following code?"
   ]
  },
  {
   "cell_type": "code",
   "execution_count": 5,
   "metadata": {
    "slideshow": {
     "slide_type": "fragment"
    }
   },
   "outputs": [
    {
     "name": "stdout",
     "output_type": "stream",
     "text": [
      "<class 'list'>\n"
     ]
    }
   ],
   "source": [
    "x = { 'a' : [1,2,3,4], 'b' : 'rta', 'c': { 'r' : 3, 't' : 2} }\n",
    "print( type(x['a']) )"
   ]
  },
  {
   "cell_type": "markdown",
   "metadata": {
    "slideshow": {
     "slide_type": "fragment"
    }
   },
   "source": [
    "A. `str`  \n",
    "B. `int`  \n",
    "C. `dict`  \n",
    "D. `list`  \n",
    " \n",
    "## Vote Now: [https://poll.ist256.com](https://poll.ist256.com)"
   ]
  },
  {
   "cell_type": "markdown",
   "metadata": {
    "slideshow": {
     "slide_type": "slide"
    }
   },
   "source": [
    "# FEQT (Future Exam Questions Training) 2\n",
    "\n",
    "What is the output of the following code?"
   ]
  },
  {
   "cell_type": "code",
   "execution_count": 6,
   "metadata": {
    "slideshow": {
     "slide_type": "fragment"
    }
   },
   "outputs": [
    {
     "name": "stdout",
     "output_type": "stream",
     "text": [
      "<class 'str'>\n"
     ]
    }
   ],
   "source": [
    "x = { 'a' : [1,2,3,4], 'b' : 'rta', 'c': { 'r' : 3, 't' : 2} }\n",
    "print( type(x['b'][1]) )"
   ]
  },
  {
   "cell_type": "markdown",
   "metadata": {
    "slideshow": {
     "slide_type": "fragment"
    }
   },
   "source": [
    "A. `str`  \n",
    "B. `int`  \n",
    "C. `dict`  \n",
    "D. `list`  \n",
    " \n",
    "## Vote Now: [https://poll.ist256.com](https://poll.ist256.com)"
   ]
  },
  {
   "cell_type": "markdown",
   "metadata": {
    "slideshow": {
     "slide_type": "slide"
    }
   },
   "source": [
    "# FEQT (Future Exam Questions Training) 3\n",
    "\n",
    "What is the output of the following code?"
   ]
  },
  {
   "cell_type": "code",
   "execution_count": 11,
   "metadata": {
    "slideshow": {
     "slide_type": "fragment"
    }
   },
   "outputs": [
    {
     "name": "stdout",
     "output_type": "stream",
     "text": [
      "3\n"
     ]
    }
   ],
   "source": [
    "x = { 'a' : [1,2,3,4], 'b' : 'rta', 'c': { 'r' : 3, 't' : 2} }\n",
    "print( x['a'][2])"
   ]
  },
  {
   "cell_type": "markdown",
   "metadata": {
    "slideshow": {
     "slide_type": "fragment"
    }
   },
   "source": [
    "A. `2`  \n",
    "B. `3`  \n",
    "C. `KeyError`  \n",
    "D. `IndexError`  \n",
    " \n",
    "## Vote Now: [https://poll.ist256.com](https://poll.ist256.com)"
   ]
  },
  {
   "cell_type": "markdown",
   "metadata": {
    "slideshow": {
     "slide_type": "slide"
    }
   },
   "source": [
    "# FEQT (Future Exam Questions Training) 4\n",
    "\n",
    "What is the output of the following code?"
   ]
  },
  {
   "cell_type": "code",
   "execution_count": 14,
   "metadata": {
    "slideshow": {
     "slide_type": "fragment"
    }
   },
   "outputs": [
    {
     "ename": "IndexError",
     "evalue": "string index out of range",
     "output_type": "error",
     "traceback": [
      "\u001b[0;31m---------------------------------------------------------------------------\u001b[0m",
      "\u001b[0;31mIndexError\u001b[0m                                Traceback (most recent call last)",
      "\u001b[0;32m<ipython-input-14-0ea7cbe0ba84>\u001b[0m in \u001b[0;36m<module>\u001b[0;34m\u001b[0m\n\u001b[1;32m      1\u001b[0m \u001b[0mx\u001b[0m \u001b[0;34m=\u001b[0m \u001b[0;34m{\u001b[0m \u001b[0;34m'a'\u001b[0m \u001b[0;34m:\u001b[0m \u001b[0;34m[\u001b[0m\u001b[0;36m1\u001b[0m\u001b[0;34m,\u001b[0m\u001b[0;36m2\u001b[0m\u001b[0;34m,\u001b[0m\u001b[0;36m3\u001b[0m\u001b[0;34m,\u001b[0m\u001b[0;36m4\u001b[0m\u001b[0;34m]\u001b[0m\u001b[0;34m,\u001b[0m \u001b[0;34m'b'\u001b[0m \u001b[0;34m:\u001b[0m \u001b[0;34m'rta'\u001b[0m\u001b[0;34m,\u001b[0m \u001b[0;34m'c'\u001b[0m\u001b[0;34m:\u001b[0m \u001b[0;34m{\u001b[0m \u001b[0;34m'r'\u001b[0m \u001b[0;34m:\u001b[0m \u001b[0;36m3\u001b[0m\u001b[0;34m,\u001b[0m \u001b[0;34m't'\u001b[0m \u001b[0;34m:\u001b[0m \u001b[0;36m2\u001b[0m\u001b[0;34m}\u001b[0m \u001b[0;34m}\u001b[0m\u001b[0;34m\u001b[0m\u001b[0;34m\u001b[0m\u001b[0m\n\u001b[0;32m----> 2\u001b[0;31m \u001b[0mprint\u001b[0m\u001b[0;34m(\u001b[0m \u001b[0mx\u001b[0m\u001b[0;34m[\u001b[0m\u001b[0;34m'b'\u001b[0m\u001b[0;34m]\u001b[0m\u001b[0;34m[\u001b[0m\u001b[0;36m4\u001b[0m\u001b[0;34m]\u001b[0m \u001b[0;34m)\u001b[0m\u001b[0;34m\u001b[0m\u001b[0;34m\u001b[0m\u001b[0m\n\u001b[0m",
      "\u001b[0;31mIndexError\u001b[0m: string index out of range"
     ]
    }
   ],
   "source": [
    "x = { 'a' : [1,2,3,4], 'b' : 'rta', 'c': { 'r' : 3, 't' : 2} }\n",
    "print( x['b'][4] ) "
   ]
  },
  {
   "cell_type": "markdown",
   "metadata": {
    "slideshow": {
     "slide_type": "fragment"
    }
   },
   "source": [
    "A. `2`  \n",
    "B. `3`  \n",
    "C. `KeyError`  \n",
    "D. `IndexError`  \n",
    " \n",
    "## Vote Now: [https://poll.ist256.com](https://poll.ist256.com)"
   ]
  },
  {
   "cell_type": "markdown",
   "metadata": {
    "slideshow": {
     "slide_type": "slide"
    }
   },
   "source": [
    "# FEQT (Future Exam Questions Training) 5\n",
    "\n",
    "What is the output of the following code?"
   ]
  },
  {
   "cell_type": "code",
   "execution_count": 18,
   "metadata": {
    "slideshow": {
     "slide_type": "fragment"
    }
   },
   "outputs": [
    {
     "name": "stdout",
     "output_type": "stream",
     "text": [
      "{'r': 3, 't': 2}\n"
     ]
    }
   ],
   "source": [
    "x = { 'a' : [1,7,3,4], 'b' : 'rta', 'c': { 'r' : 3, 't' : 2} }\n",
    "print( x['c'] )\n"
   ]
  },
  {
   "cell_type": "markdown",
   "metadata": {
    "slideshow": {
     "slide_type": "fragment"
    }
   },
   "source": [
    "A. `2`  \n",
    "B. `3`  \n",
    "C. `KeyError`  \n",
    "D. `IndexError`  \n",
    " \n",
    "## Vote Now: [https://poll.ist256.com](https://poll.ist256.com)"
   ]
  },
  {
   "cell_type": "markdown",
   "metadata": {
    "slideshow": {
     "slide_type": "slide"
    }
   },
   "source": [
    "# FEQT (Future Exam Questions Training) 6\n",
    "\n",
    "What is the output of the following code?"
   ]
  },
  {
   "cell_type": "code",
   "execution_count": null,
   "metadata": {
    "slideshow": {
     "slide_type": "fragment"
    }
   },
   "outputs": [],
   "source": [
    "x = { 'a' : [1,2,3,4], 'b' : 'rta', 'c': { 'r' : 3, 't' : 2} }\n",
    "print( x['c']['r']) "
   ]
  },
  {
   "cell_type": "markdown",
   "metadata": {
    "slideshow": {
     "slide_type": "fragment"
    }
   },
   "source": [
    "A. `2`  \n",
    "B. `3`  \n",
    "C. `KeyError`  \n",
    "D. `IndexError`  \n",
    " \n",
    "## Vote Now: [https://poll.ist256.com](https://poll.ist256.com)"
   ]
  },
  {
   "cell_type": "markdown",
   "metadata": {
    "slideshow": {
     "slide_type": "skip"
    }
   },
   "source": [
    "# Connect Activity\n",
    "\n",
    "**Question:** The Python module to consume Web API's is called:  \n",
    "A. `api`  \n",
    "B. `requests`  \n",
    "C. `http`  \n",
    "D. `urllibrary`  \n",
    "\n",
    "\n",
    "### Vote Now: [https://poll.ist256.com](https://poll.ist256.com)"
   ]
  },
  {
   "cell_type": "markdown",
   "metadata": {
    "slideshow": {
     "slide_type": "slide"
    }
   },
   "source": [
    " # What is the Big Picture Here?\n",
    " \n",
    " - First learned how to call functions built into python like, `input()` and `int()`\n",
    " - Then we larned how to `import` a module of functions then use them, like `math` or `json`, or `ipywidgets`\n",
    " - Then learned how to find new code on http://pypi.org, install with `pip` and then `import` to use it, like `gtts` or `emoji`\n",
    " - Then we learned built-in functions of variables of type `str` `list` and `dict` such as `str.find()` and `dict.keys()`\n",
    " \n",
    " \n",
    " - **Now we will learn how to call functions over the internet, executing code remotely!!!**\n",
    " \n",
    "    "
   ]
  },
  {
   "cell_type": "markdown",
   "metadata": {
    "slideshow": {
     "slide_type": "slide"
    }
   },
   "source": [
    "# HTTP: The Protocol of The Web\n",
    "\n",
    "- When you type a URL into your browser you’re making a **request**.\n",
    "- The site processing your request sends a **response**.\n",
    "- Part of the response is the **status code**. This indicates “what happened”\n",
    "- The other part of the response is **content** (this is usually HTML) which is rendered by the browser.\n",
    "- HTTP is  a **text based** protocol. It is **stateless** meaning each request in independent of the other.\n",
    "\n"
   ]
  },
  {
   "cell_type": "markdown",
   "metadata": {
    "slideshow": {
     "slide_type": "slide"
    }
   },
   "source": [
    "# HTTP Request Verbs\n",
    "\n",
    "HTTP Request Verbs:\n",
    "- GET - used to get resources\n",
    "- POST - used to send large data payloads as input\n",
    "- PUT - used for updates\n",
    "- DELETE - used to delete a resource\n"
   ]
  },
  {
   "cell_type": "markdown",
   "metadata": {
    "slideshow": {
     "slide_type": "slide"
    }
   },
   "source": [
    "# HTTP Response Status codes\n",
    "\n",
    "The HTTP response has a payload of data and a status code. \n",
    "\n",
    "HTTP Status Codes:\n",
    "- `1xx` Informational\n",
    "- `2xx` Success\n",
    "- `3xx` Redirection\n",
    "- `4xx` Client Error\n",
    "- `5xx` Server Error"
   ]
  },
  {
   "cell_type": "markdown",
   "metadata": {
    "slideshow": {
     "slide_type": "slide"
    }
   },
   "source": [
    "# Watch Me Code 1 \n",
    "\n",
    "A Non-Python Demo of HTTP\n",
    "- What happens when you request a site? Like http://www.syr.edu ?\n",
    "- Chrome Developer tools\n",
    "- Now using `requests`.\n",
    "- Status codes and request verbs.\n",
    "- de-serializing `json` output.\n"
   ]
  },
  {
   "cell_type": "markdown",
   "metadata": {
    "slideshow": {
     "slide_type": "slide"
    }
   },
   "source": [
    "# Check Yourself: Response Codes\n",
    "\n",
    "The HTTP Response code for **success** is  \n",
    "A. `404`  \n",
    "B. `501`  \n",
    "C. `200`  \n",
    "D. `301`  \n",
    "\n",
    "### Vote Now: [https://poll.ist256.com](https://poll.ist256.com)"
   ]
  },
  {
   "cell_type": "markdown",
   "metadata": {
    "slideshow": {
     "slide_type": "slide"
    }
   },
   "source": [
    "# 4 Ways to Send Data over HTTP\n",
    "\n",
    "1. In the URL  \n",
    "`GET http://www.someapi.com/user/45`\n",
    "2. On the Query String - a set of key-value pairs on the URL   \n",
    "`GET http://www.someapi.com?user=45`  \n",
    "3. In the request header  - a set of key-value pairs in the HTTP header  \n",
    "`header = { 'user' : 45 } GET http://www.someapi.com`\n",
    "4. In the body of an HTTP post - any format   \n",
    "`Body: user=45 POST http://www.someapi.com`\n",
    "\n",
    "Which approach do you use? Depends on the service you are using!"
   ]
  },
  {
   "cell_type": "markdown",
   "metadata": {
    "slideshow": {
     "slide_type": "slide"
    }
   },
   "source": [
    "# Watch Me Code 2\n",
    "\n",
    "Examples of the many ways send data over HTTP using the https://httpbin.org/  website (Wait, scratch that, using https://api.ist256.com) !!!\n",
    "\n",
    "- HTTP GET in the url\n",
    "- HTTP GET in the query string and url generation\n",
    "- HTTP GET in the header\n",
    "- HTTP POST\n",
    "- Combinations\n"
   ]
  },
  {
   "cell_type": "markdown",
   "metadata": {
    "slideshow": {
     "slide_type": "slide"
    }
   },
   "source": [
    "# Check Yourself : HTTP Methods\n",
    "\n",
    "\n",
    "What is the URL printed on the last line?"
   ]
  },
  {
   "cell_type": "code",
   "execution_count": null,
   "metadata": {
    "slideshow": {
     "slide_type": "fragment"
    }
   },
   "outputs": [],
   "source": [
    "import requests\n",
    "params = { 'a' : 1, 'b' : 2 }\n",
    "headers = { 'c' : '3'}\n",
    "url = \"https://httpbin.org/get\"\n",
    "response = requests.get(url, params = params, headers = headers)\n",
    "print(response.url)"
   ]
  },
  {
   "cell_type": "markdown",
   "metadata": {
    "slideshow": {
     "slide_type": "fragment"
    }
   },
   "source": [
    "A. `https://httpbin.org/get?a=1&b=2&c=3`  \n",
    "B. `https://httpbin.org/get?a=1&b=2`  \n",
    "C. `https://httpbin.org/get?c=3`  \n",
    "D. `https://httpbin.org/get`  \n",
    "\n",
    "\n",
    "### Vote Now: [https://poll.ist256.com](https://poll.ist256.com)"
   ]
  },
  {
   "cell_type": "markdown",
   "metadata": {
    "slideshow": {
     "slide_type": "slide"
    }
   },
   "source": [
    "# Watch Me Code 3\n",
    "\n",
    "### Open Street Maps Geocoding \n",
    "- Get a GPS coordinate (Latitude and Longitude) for a City or Street Address\n",
    "- What you do with the response data is up to you!\n",
    "- Get Lat/ Long for address\n",
    "- Get city/ state for zipcode  \n",
    "Example:   \n",
    "https://nominatim.openstreetmap.org/search?q=address&format=json\n"
   ]
  },
  {
   "cell_type": "markdown",
   "metadata": {
    "slideshow": {
     "slide_type": "slide"
    }
   },
   "source": [
    "# Web API: Weather Data\n",
    "\n",
    "- https://openweathermap.org/\n",
    "- You must sign up for an API key\n",
    "- 1000 free requests per day\n",
    "- Can take a day for your key to activate.... so plan accordingly.\n",
    "- One call API - retrieve the most info in a single request https://openweathermap.org/api/one-call-api\n"
   ]
  },
  {
   "cell_type": "markdown",
   "metadata": {
    "slideshow": {
     "slide_type": "slide"
    }
   },
   "source": [
    "# End-To-End Example:\n",
    "\n",
    "### Today's Weather\n",
    "- Understand how to use a weather API\n",
    "- Let's write a program to input a city / state combination like \"Syracuse, NY\"\n",
    "- Then outputs the weather forecast at that location!\n",
    "- Error handling?\n"
   ]
  },
  {
   "cell_type": "markdown",
   "metadata": {
    "slideshow": {
     "slide_type": "slide"
    }
   },
   "source": [
    "# Conclusion Activity: Exit Ticket \n",
    "\n",
    "Which HTTP method is used to send large quantities of data to the URL?\n",
    "\n",
    "A. `GET`  \n",
    "B. `POST`  \n",
    "C. `DELETE`  \n",
    "D. `PUT`   \n",
    "\n",
    "### Vote Now: [https://poll.ist256.com](https://poll.ist256.com)"
   ]
  }
 ],
 "metadata": {
  "celltoolbar": "Slideshow",
  "kernelspec": {
   "display_name": "Python 3",
   "language": "python",
   "name": "python3"
  },
  "language_info": {
   "codemirror_mode": {
    "name": "ipython",
    "version": 3
   },
   "file_extension": ".py",
   "mimetype": "text/x-python",
   "name": "python",
   "nbconvert_exporter": "python",
   "pygments_lexer": "ipython3",
   "version": "3.8.6"
  },
  "toc": {
   "base_numbering": 1,
   "nav_menu": {},
   "number_sections": false,
   "sideBar": false,
   "skip_h1_title": false,
   "title_cell": "Table of Contents",
   "title_sidebar": "Contents",
   "toc_cell": false,
   "toc_position": {},
   "toc_section_display": false,
   "toc_window_display": false
  }
 },
 "nbformat": 4,
 "nbformat_minor": 2
}
