{
 "cells": [
  {
   "cell_type": "markdown",
   "metadata": {
    "slideshow": {
     "slide_type": "slide"
    }
   },
   "source": [
    "# IST256 Lesson 05\n",
    "\n",
    "## Functions\n",
    "\n",
    "- Zybook Ch 5\n",
    "- P4E Ch 4\n",
    "\n",
    "## Links\n",
    "\n",
    "- Participation: [https://poll.ist256.com](https://poll.ist256.com)\n",
    "- In-Class Questions: Ask over Zoom Chat!"
   ]
  },
  {
   "cell_type": "markdown",
   "metadata": {
    "slideshow": {
     "slide_type": "slide"
    }
   },
   "source": [
    "# Agenda\n",
    "\n",
    "- Exam 1 - Frequently Missed Question Types\n",
    "- Homework 04 Review \n",
    "\n",
    "\n",
    "Functions:\n",
    "\n",
    "- Using import for functions from a module.\n",
    "- How to inspect module contents and get help on functions. \n",
    "- User-defined functions: arguments, named arguments, return values\n",
    "- How to modularize our code with user-defined functions.\n"
   ]
  },
  {
   "cell_type": "markdown",
   "metadata": {
    "slideshow": {
     "slide_type": "slide"
    }
   },
   "source": [
    "## FMQT 1 Understanding Try/Except Errors\n",
    "\n",
    "The input on line 2 is `9.999`, what is the value of `q` at the end of this program ?"
   ]
  },
  {
   "cell_type": "code",
   "execution_count": null,
   "metadata": {
    "slideshow": {
     "slide_type": "fragment"
    }
   },
   "outputs": [],
   "source": [
    "try:\n",
    "    n = int(input(\"Enter n: \"))\n",
    "    if n > 0:\n",
    "        q = 1\n",
    "    elif n == 0:\n",
    "        q = 2\n",
    "    else:\n",
    "        q = 3\n",
    "except:\n",
    "    q = 4"
   ]
  },
  {
   "cell_type": "markdown",
   "metadata": {
    "slideshow": {
     "slide_type": "fragment"
    }
   },
   "source": [
    "a. 1  \n",
    "b. 2  \n",
    "c. 3  \n",
    "d. 4  \n",
    "### Vote Now: [https://poll.ist256.com](https://poll.ist256.com)"
   ]
  },
  {
   "cell_type": "markdown",
   "metadata": {
    "slideshow": {
     "slide_type": "slide"
    }
   },
   "source": [
    "## FMQT 2 sequential if is not elif\n",
    "\n",
    "The input on line 1 is `15`, what is the value of `q` at the end of this program ?"
   ]
  },
  {
   "cell_type": "code",
   "execution_count": null,
   "metadata": {
    "slideshow": {
     "slide_type": "fragment"
    }
   },
   "outputs": [],
   "source": [
    "n = int(input(\"Enter n: \"))\n",
    "\n",
    "\n",
    "if n > 0:\n",
    "    q = 1\n",
    "\n",
    "if n >10:\n",
    "    q = 2\n",
    "\n",
    "    \n",
    "    \n",
    "if n > 20:\n",
    "    q = 3\n",
    "else:\n",
    "    q = 4"
   ]
  },
  {
   "cell_type": "markdown",
   "metadata": {
    "slideshow": {
     "slide_type": "fragment"
    }
   },
   "source": [
    "a. 1  \n",
    "b. 2  \n",
    "c. 3  \n",
    "d. 4  \n",
    "### Vote Now: [https://poll.ist256.com](https://poll.ist256.com)"
   ]
  },
  {
   "cell_type": "markdown",
   "metadata": {
    "slideshow": {
     "slide_type": "slide"
    }
   },
   "source": [
    "## FMQT 3 TypeError\n",
    "\n",
    "On which line of code is there an error?"
   ]
  },
  {
   "cell_type": "code",
   "execution_count": 4,
   "metadata": {
    "slideshow": {
     "slide_type": "fragment"
    }
   },
   "outputs": [
    {
     "ename": "TypeError",
     "evalue": "can only concatenate str (not \"int\") to str",
     "output_type": "error",
     "traceback": [
      "\u001b[0;31m---------------------------------------------------------------------------\u001b[0m",
      "\u001b[0;31mTypeError\u001b[0m                                 Traceback (most recent call last)",
      "\u001b[0;32m<ipython-input-4-75856550ce62>\u001b[0m in \u001b[0;36m<module>\u001b[0;34m\u001b[0m\n\u001b[1;32m      6\u001b[0m \u001b[0;31m#y = a + b\u001b[0m\u001b[0;34m\u001b[0m\u001b[0;34m\u001b[0m\u001b[0;34m\u001b[0m\u001b[0m\n\u001b[1;32m      7\u001b[0m \u001b[0mz\u001b[0m \u001b[0;34m=\u001b[0m \u001b[0mfloat\u001b[0m\u001b[0;34m(\u001b[0m\u001b[0mb\u001b[0m\u001b[0;34m)\u001b[0m \u001b[0;34m+\u001b[0m \u001b[0mc\u001b[0m\u001b[0;34m\u001b[0m\u001b[0;34m\u001b[0m\u001b[0m\n\u001b[0;32m----> 8\u001b[0;31m \u001b[0;34m\"10\"\u001b[0m \u001b[0;34m+\u001b[0m \u001b[0;36m10\u001b[0m\u001b[0;34m\u001b[0m\u001b[0;34m\u001b[0m\u001b[0m\n\u001b[0m",
      "\u001b[0;31mTypeError\u001b[0m: can only concatenate str (not \"int\") to str"
     ]
    }
   ],
   "source": [
    "a = 10\n",
    "b = \"15\"\n",
    "c = 10.5\n",
    "w = a + c\n",
    "x = a + 1.0\n",
    "#y = a + b\n",
    "z = float(b) + c\n",
    "\"10\" + 10"
   ]
  },
  {
   "cell_type": "markdown",
   "metadata": {
    "slideshow": {
     "slide_type": "fragment"
    }
   },
   "source": [
    "a. 4  \n",
    "b. 5  \n",
    "c. 6  \n",
    "d. 7  \n",
    "### Vote Now: [https://poll.ist256.com](https://poll.ist256.com)"
   ]
  },
  {
   "cell_type": "markdown",
   "metadata": {
    "slideshow": {
     "slide_type": "slide"
    }
   },
   "source": [
    "## FMQT 4 Data Types\n",
    "\n",
    "On which line of code is the expression of type `float`?"
   ]
  },
  {
   "cell_type": "code",
   "execution_count": null,
   "metadata": {
    "slideshow": {
     "slide_type": "fragment"
    }
   },
   "outputs": [],
   "source": [
    "a = 10\n",
    "b = \"15\"\n",
    "c = 10.5\n",
    "w = 1.5 < b\n",
    "x = a + 5\n",
    "y = int(c) + int(b)\n",
    "z = int(b) + c"
   ]
  },
  {
   "cell_type": "markdown",
   "metadata": {
    "slideshow": {
     "slide_type": "fragment"
    }
   },
   "source": [
    "a. 4  \n",
    "b. 5  \n",
    "c. 6  \n",
    "d. 7  \n",
    "### Vote Now: [https://poll.ist256.com](https://poll.ist256.com)"
   ]
  },
  {
   "cell_type": "markdown",
   "metadata": {
    "slideshow": {
     "slide_type": "slide"
    }
   },
   "source": [
    "# From This Point Forward\n",
    "\n",
    "We will start large group with a couple of exam-like challenge poll questions.\n",
    "\n",
    "The questions will be based on the previous unit (so next week there will be function questions)\n",
    "\n",
    "Hopefully this will better prepare you for the types of questions which might be asked. "
   ]
  },
  {
   "cell_type": "markdown",
   "metadata": {
    "slideshow": {
     "slide_type": "slide"
    }
   },
   "source": [
    "# Homework 04\n",
    "\n",
    "Let's Look at homework 04"
   ]
  },
  {
   "cell_type": "markdown",
   "metadata": {
    "slideshow": {
     "slide_type": "slide"
    }
   },
   "source": [
    "# Functions\n",
    "\n",
    "- A **Function** is a named sequence of statements which accomplish a task. They promote modularity, making our code less complex, easier to understand and encourage code-reuse. \n",
    "- When you “run” a defined function it’s known as a **function call**. Functions are designed to be ***written once***, but ***called many times***.\n",
    "- We've seen functions before:  "
   ]
  },
  {
   "cell_type": "code",
   "execution_count": null,
   "metadata": {
    "slideshow": {
     "slide_type": "fragment"
    }
   },
   "outputs": [],
   "source": [
    "# input(). random.randint(), and int() are all functions!\n",
    "import random\n",
    "x = input(\"Enter Name: \")  \n",
    "y = random.randint(1,10)  #random is the module, randint() is the function\n",
    "z = int(\"9\")"
   ]
  },
  {
   "attachments": {
    "Capture.PNG": {
     "image/png": "[encoded data removed]"
    }
   },
   "cell_type": "markdown",
   "metadata": {
    "slideshow": {
     "slide_type": "slide"
    }
   },
   "source": [
    "# Functions, continued\n",
    "\n",
    "- Functions are like their own little programs. They take input, which we call the **function arguments (or parameters)** and give us back output that we refer to as **return values**.\n",
    "\n",
    "![Capture.PNG](attachment:Capture.PNG)\n",
    "\n"
   ]
  },
  {
   "cell_type": "markdown",
   "metadata": {
    "slideshow": {
     "slide_type": "slide"
    }
   },
   "source": [
    "# Check Yourself 1: Functions\n",
    "\n",
    "### Match the concept to its object name in the example.\n",
    "\n",
    "   ### &nbsp;&nbsp;&nbsp;&nbsp;&nbsp;&nbsp; <font color='green'> x = y(z) </font>\n",
    "   \n",
    "   y = input(\"enter name\")\n",
    "   \n",
    "   #### &nbsp;&nbsp;&nbsp;&nbsp;&nbsp;&nbsp; 1. Function Name?\n",
    "   &nbsp;&nbsp; A. `x`  \n",
    "   &nbsp;&nbsp; B. `y`  \n",
    "   &nbsp;&nbsp; C. `z`  \n",
    "### Vote Now: [https://poll.ist256.com](https://poll.ist256.com)"
   ]
  },
  {
   "cell_type": "markdown",
   "metadata": {
    "slideshow": {
     "slide_type": "slide"
    }
   },
   "source": [
    "# Check Yourself 2: Functions\n",
    "\n",
    "### Match the concept to its object name in the example.\n",
    "\n",
    "   ### &nbsp;&nbsp;&nbsp;&nbsp;&nbsp;&nbsp; <font color='green'> x = y(z) </font>\n",
    "   \n",
    "&nbsp;&nbsp;&nbsp;&nbsp;&nbsp;&nbsp;1. Function Name?  \n",
    "**&nbsp;&nbsp;&nbsp;&nbsp;&nbsp;&nbsp;2. Argument?**  \n",
    "   &nbsp;&nbsp; A. `x`  \n",
    "   &nbsp;&nbsp; B. `y`  \n",
    "   &nbsp;&nbsp; C. `z`  \n",
    "### Vote Now: [https://poll.ist256.com](https://poll.ist256.com)"
   ]
  },
  {
   "cell_type": "markdown",
   "metadata": {
    "slideshow": {
     "slide_type": "slide"
    }
   },
   "source": [
    "# Functions & Python Modules\n",
    "\n",
    "- Python **modules** are separate files of Python functions.\n",
    "- In an object-oriented context functions are called **Methods**. Methods are functions attached to a Python object variable.\n",
    "- When you **import** a module, Python executes the and all the variables and methods/ functions module become available to your program. \n",
    "- In this example:\n",
    "  - `random` is the Python object variable\n",
    "  - `randint` is the Python method function for object variable `random`\n",
    "  - `print()` is a Python function"
   ]
  },
  {
   "cell_type": "code",
   "execution_count": null,
   "metadata": {
    "slideshow": {
     "slide_type": "fragment"
    }
   },
   "outputs": [],
   "source": [
    "import random\n",
    "x = random.randint(1,10)\n",
    "print(x)"
   ]
  },
  {
   "cell_type": "markdown",
   "metadata": {
    "slideshow": {
     "slide_type": "slide"
    }
   },
   "source": [
    "# dir() and help() built-in functions\n",
    "\n",
    "- The **dir()** function will display the names defined by the module. This will help you find the method functions.\n",
    "- You can get **help()** on any function name to see how to use it."
   ]
  },
  {
   "cell_type": "code",
   "execution_count": null,
   "metadata": {
    "slideshow": {
     "slide_type": "fragment"
    }
   },
   "outputs": [],
   "source": [
    "import random\n",
    "dir(random)\n",
    "help(random.randint)"
   ]
  },
  {
   "cell_type": "markdown",
   "metadata": {
    "slideshow": {
     "slide_type": "slide"
    }
   },
   "source": [
    "# Watch Me Code 1\n",
    "\n",
    "Import Modules:\n",
    "- Import sys, math and random\n",
    "- dir()\n",
    "- help()\n"
   ]
  },
  {
   "cell_type": "markdown",
   "metadata": {
    "slideshow": {
     "slide_type": "slide"
    }
   },
   "source": [
    "# Built in Modules vs. External\n",
    "\n",
    "- The Python language has several modules which are included with the base language: **Python Standard Library** https://docs.python.org/3/library/ \n",
    "- In addition you can import other libraries found on the Internet. \n",
    "- The Python Package Index is a website which allows you to search for other code avaialbe for use. https://pypi.org/\n",
    "- Once you know which package you want, you can install it with the `pip` command from the terminal.\n",
    "- example: `pip install <name-of-package>`"
   ]
  },
  {
   "cell_type": "markdown",
   "metadata": {
    "slideshow": {
     "slide_type": "slide"
    }
   },
   "source": [
    "# Importing Modules \n",
    "\n",
    "Modules which are not built-in must be imported with the `import` command.\n",
    "\n",
    "\n",
    "- `import foo` imports all code from module `foo`\n",
    "- `from foo import bar,baz` only imports the `bar` and `baz` functions from module `foo`\n",
    "- `import foo as f` imports all code from module `foo` and renames it to `f` (usually to avoid naming conflicts)"
   ]
  },
  {
   "cell_type": "markdown",
   "metadata": {
    "slideshow": {
     "slide_type": "slide"
    }
   },
   "source": [
    "# Installing Modules you Don't have \n",
    "\n",
    "- Find code modules at the Python Package Index [https://pypi.org](https://pypi.org)\n",
    "- Other people's code published as a package you can download and install.\n",
    "- Use the package installer, `pip` to install in your own Python environment.\n",
    "- In notebook cell `!pip install <modulename>` \n"
   ]
  },
  {
   "cell_type": "markdown",
   "metadata": {
    "slideshow": {
     "slide_type": "slide"
    }
   },
   "source": [
    "# Watch Me Code 2: \n",
    "\n",
    "### Let's Do Text to Speech in Python!\n",
    "\n",
    "- use Pypi https://pypi.org/ to find a Python package... gTTS\n",
    "- import the Python package into our environment using `pip` \n",
    "- demonstrate different ways you can use `import` to bring in the code we need.\n",
    "- use `dir()` and `help()` to figure things out.\n"
   ]
  },
  {
   "cell_type": "markdown",
   "metadata": {
    "slideshow": {
     "slide_type": "slide"
    }
   },
   "source": [
    "# Check Yourself 3: modules\n",
    "\n",
    "\n",
    "To figure out which functions are in a module we use ?\n",
    "\n",
    "A. `pip`  \n",
    "B. `import`  \n",
    "C. `dir`  \n",
    "D. `help`\n",
    "\n",
    "\n",
    "### Vote Now: [https://poll.ist256.com](https://poll.ist256.com)"
   ]
  },
  {
   "cell_type": "markdown",
   "metadata": {
    "slideshow": {
     "slide_type": "slide"
    }
   },
   "source": [
    "# Check Yourself 4: modules\n",
    "\n",
    "To load an installed module into the Python environment so you can use it, we use ?\n",
    "\n",
    "A. `pip`  \n",
    "B. `import`  \n",
    "C. `dir`  \n",
    "D. `help`\n",
    "\n",
    "\n",
    "### Vote Now: [https://poll.ist256.com](https://poll.ist256.com)"
   ]
  },
  {
   "cell_type": "markdown",
   "metadata": {},
   "source": [
    "# Check Yourself 5: modules\n",
    "\n",
    "To download and install a package of modules into the Python environment, we use ?\n",
    "\n",
    "A. `pip`  \n",
    "B. `import`  \n",
    "C. `dir`  \n",
    "D. `help`\n",
    "\n",
    "\n",
    "### Vote Now: [https://poll.ist256.com](https://poll.ist256.com)"
   ]
  },
  {
   "cell_type": "markdown",
   "metadata": {
    "slideshow": {
     "slide_type": "slide"
    }
   },
   "source": [
    "# User-Defined Functions\n",
    "\n",
    "- We can create out own functions with Python's  **def** statement. \n",
    "- Function are like little programs with inputs and outputs. \n",
    "- function inputs go in the `()` after the function name. These are called the **arguments** of the function.\n",
    "- Functions outputs are specified in a `return` statement within your function code. "
   ]
  },
  {
   "cell_type": "code",
   "execution_count": null,
   "metadata": {
    "slideshow": {
     "slide_type": "fragment"
    }
   },
   "outputs": [],
   "source": [
    "# arguments are input into the function\n",
    "# return is the output\n",
    "def my_function_name(input_arguments):\n",
    "      statements-in-function\n",
    "      return output_expression"
   ]
  },
  {
   "cell_type": "markdown",
   "metadata": {
    "slideshow": {
     "slide_type": "slide"
    }
   },
   "source": [
    "# Watch Me Code 3\n",
    "\n",
    "### User defined text to speech function\n",
    "\n",
    "- Functions make code readable and promote re-use!\n",
    "- Concept: Named Arguments for language or accent\n"
   ]
  },
  {
   "cell_type": "markdown",
   "metadata": {
    "slideshow": {
     "slide_type": "slide"
    }
   },
   "source": [
    "# Function Variable Scope\n",
    "\n",
    "- Variables defined outside any function are **Global Variables**. These  are accessible ***from everywhere*** including inside function definitions.\n",
    "- Variables defined inside a function are **Local Variables**, and are only accessible inside the function definition.\n",
    "- Local variables with the same name take precedence over global variables \n",
    "- **Best Practice: <font color='green'> Avoid Global Variable Use In Functions!!! </font>**\n"
   ]
  },
  {
   "cell_type": "markdown",
   "metadata": {
    "slideshow": {
     "slide_type": "slide"
    }
   },
   "source": [
    "# Scope Example\n",
    "\n",
    "- `a` = local to function `x()`\n",
    "- `b` = global scope\n",
    "- `c` = value of \"d\" in function `x()` value of \"t\" globally"
   ]
  },
  {
   "cell_type": "code",
   "execution_count": null,
   "metadata": {
    "slideshow": {
     "slide_type": "fragment"
    }
   },
   "outputs": [],
   "source": [
    "b = \"a\"\n",
    "c = \"t\"\n",
    "def x(a):\n",
    "    c = \"d\"\n",
    "    return a+b+c \n",
    "print(x(\"p\"))\n",
    "print(c) "
   ]
  },
  {
   "cell_type": "markdown",
   "metadata": {
    "slideshow": {
     "slide_type": "slide"
    }
   },
   "source": [
    "# IPython display and interact \n",
    "\n",
    "- Now that we covered functions we can write programs with better input/output!\n",
    "- `IPython.display` for output\n",
    "- `ipywdgets.interact` and `interact_manual` for better input.\n",
    "- Write a function to do something\n",
    "- decorate with `interact_manual()`"
   ]
  },
  {
   "cell_type": "markdown",
   "metadata": {
    "slideshow": {
     "slide_type": "slide"
    }
   },
   "source": [
    "# Watch Me Code 4\n",
    "\n",
    "### IPython Interactive\n",
    "\n",
    "- Write a function call the `speak()` function we wrote.\n",
    "- call with `@interact_manual` so arguments can be entered at run time.\n"
   ]
  },
  {
   "cell_type": "markdown",
   "metadata": {
    "slideshow": {
     "slide_type": "slide"
    }
   },
   "source": [
    "# End-To-End Example:\n",
    "\n",
    "Fred's Fence Calculator Interact Edition\n",
    "- re-Write fred's fence as a function\n",
    "- test it.\n",
    "- write an interact function.\n",
    "\n"
   ]
  },
  {
   "cell_type": "markdown",
   "metadata": {
    "slideshow": {
     "slide_type": "slide"
    }
   },
   "source": [
    "# Conclusion Activity Exit Ticket\n",
    "\n",
    "### One Question Challenge\n",
    "\n",
    "What is the value printed on the last line?\n"
   ]
  },
  {
   "cell_type": "code",
   "execution_count": null,
   "metadata": {
    "slideshow": {
     "slide_type": "fragment"
    }
   },
   "outputs": [],
   "source": [
    "def myfunc(y):\n",
    "    x = 1\n",
    "    z = x + y + a\n",
    "    return z\n",
    "\n",
    "a = 2\n",
    "b = myfunc(2)\n",
    "print(b)"
   ]
  },
  {
   "cell_type": "markdown",
   "metadata": {
    "slideshow": {
     "slide_type": "fragment"
    }
   },
   "source": [
    "A. `NameError`  \n",
    "B. `3`  \n",
    "C. `5`  \n",
    "D. `4`\n",
    "\n",
    "\n",
    "### Vote Now: [https://poll.ist256.com](https://poll.ist256.com)"
   ]
  }
 ],
 "metadata": {
  "celltoolbar": "Slideshow",
  "kernelspec": {
   "display_name": "Python 3",
   "language": "python",
   "name": "python3"
  },
  "language_info": {
   "codemirror_mode": {
    "name": "ipython",
    "version": 3
   },
   "file_extension": ".py",
   "mimetype": "text/x-python",
   "name": "python",
   "nbconvert_exporter": "python",
   "pygments_lexer": "ipython3",
   "version": "3.8.6"
  },
  "toc": {
   "base_numbering": 1,
   "nav_menu": {},
   "number_sections": false,
   "sideBar": false,
   "skip_h1_title": false,
   "title_cell": "Table of Contents",
   "title_sidebar": "Contents",
   "toc_cell": false,
   "toc_position": {},
   "toc_section_display": false,
   "toc_window_display": false
  }
 },
 "nbformat": 4,
 "nbformat_minor": 2
}
