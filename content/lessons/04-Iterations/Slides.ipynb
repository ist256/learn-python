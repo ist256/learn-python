{
 "cells": [
  {
   "cell_type": "markdown",
   "metadata": {
    "slideshow": {
     "slide_type": "slide"
    }
   },
   "source": [
    "# IST256 Lesson 04\n",
    "## Iterations\n",
    "\n",
    "\n",
    "- Zybook Ch 4\n",
    "- P4E Ch5\n",
    "\n",
    "## Links\n",
    "\n",
    "- Participation: [https://poll.ist256.com](https://poll.ist256.com)\n",
    "- In-Class Questions: Zoom Chat!\n"
   ]
  },
  {
   "cell_type": "markdown",
   "metadata": {
    "slideshow": {
     "slide_type": "slide"
    }
   },
   "source": [
    "# Agenda\n",
    "\n",
    "- Exam 1 this week\n",
    "- Go over HW 03\n",
    "\n",
    "### Iterations \n",
    "- Make our code execute in a non linear fashion.\n",
    "- Definite loops (for loops) and iterators.\n",
    "- Indefinite looping, infinite loops, and the break and continue statements\n",
    "- How to build complex loops easily. \n"
   ]
  },
  {
   "cell_type": "markdown",
   "metadata": {
    "slideshow": {
     "slide_type": "slide"
    }
   },
   "source": [
    "# Connect Activity\n",
    "\n",
    "Select the line number where the **increment** occurs: "
   ]
  },
  {
   "cell_type": "code",
   "execution_count": null,
   "metadata": {
    "slideshow": {
     "slide_type": "fragment"
    }
   },
   "outputs": [],
   "source": [
    "i,j,k = 1, 20, 1\n",
    "while (i<j):\n",
    "    n = k*(j-i)\n",
    "    print(n)\n",
    "    i = i + 1\n",
    "    j = j - 1\n",
    "    k = k * 5"
   ]
  },
  {
   "cell_type": "markdown",
   "metadata": {
    "slideshow": {
     "slide_type": "fragment"
    }
   },
   "source": [
    "A. `4`  \n",
    "B. `5`  \n",
    "C. `6`  \n",
    "D. `7`  \n",
    "\n",
    "### Vote Now: [https://poll.ist256.com](https://poll.ist256.com)"
   ]
  },
  {
   "cell_type": "markdown",
   "metadata": {
    "slideshow": {
     "slide_type": "slide"
    }
   },
   "source": [
    "# Increment and Decrement\n",
    "\n",
    "- **Increment** means to add a value to a variable.  \n",
    "  `X = X + 1`\n",
    "- **Decrement** means to subtract a value from a variable.  \n",
    "  `X = X - 1`\n",
    "- These are common patterns in iteration statements which you will see today. \n"
   ]
  },
  {
   "cell_type": "markdown",
   "metadata": {
    "slideshow": {
     "slide_type": "slide"
    }
   },
   "source": [
    "# Anatomy of a loop\n",
    "\n",
    "- A **Loop** is a sequence of code that repeats as long as a Boolean expression is <font color=\"green\">True </font>. \n"
   ]
  },
  {
   "cell_type": "code",
   "execution_count": 10,
   "metadata": {
    "slideshow": {
     "slide_type": "fragment"
    }
   },
   "outputs": [
    {
     "name": "stdout",
     "output_type": "stream",
     "text": [
      "1\n",
      "2\n",
      "3\n",
      "4\n",
      "5\n",
      "6\n",
      "7\n",
      "8\n",
      "9\n",
      "10\n",
      "11\n",
      "12\n",
      "13\n",
      "14\n",
      "15\n",
      "16\n",
      "17\n",
      "18\n",
      "19\n",
      "20\n",
      "21\n",
      "22\n",
      "23\n",
      "24\n",
      "25\n",
      "26\n",
      "27\n",
      "28\n",
      "29\n",
      "30\n",
      "31\n",
      "32\n",
      "33\n",
      "34\n",
      "35\n",
      "36\n",
      "37\n",
      "38\n",
      "39\n",
      "40\n",
      "41\n",
      "42\n",
      "43\n",
      "44\n",
      "45\n",
      "46\n",
      "47\n",
      "48\n",
      "49\n",
      "50\n",
      "51\n",
      "52\n",
      "53\n",
      "54\n",
      "55\n",
      "56\n",
      "57\n",
      "58\n",
      "59\n",
      "60\n",
      "61\n",
      "62\n",
      "63\n",
      "64\n",
      "65\n",
      "66\n",
      "67\n",
      "68\n",
      "69\n",
      "70\n",
      "71\n",
      "72\n",
      "73\n",
      "74\n",
      "75\n",
      "76\n",
      "77\n",
      "78\n",
      "79\n",
      "80\n",
      "81\n",
      "82\n",
      "83\n",
      "84\n",
      "85\n",
      "86\n",
      "87\n",
      "88\n",
      "89\n",
      "90\n",
      "91\n",
      "92\n",
      "93\n",
      "94\n",
      "95\n",
      "96\n",
      "97\n",
      "98\n",
      "99\n",
      "100\n",
      "101\n",
      "102\n",
      "103\n",
      "104\n",
      "105\n",
      "106\n",
      "107\n",
      "108\n",
      "109\n",
      "110\n",
      "111\n",
      "112\n",
      "113\n",
      "114\n",
      "115\n",
      "116\n",
      "117\n",
      "118\n",
      "119\n",
      "120\n",
      "121\n",
      "122\n",
      "123\n",
      "124\n",
      "125\n",
      "126\n",
      "127\n",
      "128\n",
      "129\n",
      "130\n",
      "131\n",
      "132\n",
      "133\n",
      "134\n",
      "135\n",
      "136\n",
      "137\n",
      "138\n",
      "139\n",
      "140\n",
      "141\n",
      "142\n",
      "143\n",
      "144\n",
      "145\n",
      "146\n",
      "147\n",
      "148\n",
      "149\n",
      "150\n",
      "151\n",
      "152\n",
      "153\n",
      "154\n",
      "155\n",
      "156\n",
      "157\n",
      "158\n",
      "159\n",
      "160\n",
      "161\n",
      "162\n",
      "163\n",
      "164\n",
      "165\n",
      "166\n",
      "167\n",
      "168\n",
      "169\n",
      "170\n",
      "171\n",
      "172\n",
      "173\n",
      "174\n",
      "175\n",
      "176\n",
      "177\n",
      "178\n",
      "179\n",
      "180\n",
      "181\n",
      "182\n",
      "183\n",
      "184\n",
      "185\n",
      "186\n",
      "187\n",
      "188\n",
      "189\n",
      "190\n",
      "191\n",
      "192\n",
      "193\n",
      "194\n",
      "195\n",
      "196\n",
      "197\n",
      "198\n",
      "199\n",
      "200\n"
     ]
    }
   ],
   "source": [
    "x = 1\n",
    "while x<=200:\n",
    "    print(x)\n",
    "    x = x + 1\n",
    "   \n",
    "#print(x)"
   ]
  },
  {
   "cell_type": "markdown",
   "metadata": {
    "slideshow": {
     "slide_type": "fragment"
    }
   },
   "source": [
    "- The sequence of code that repeats is known as the **Body**.\n",
    "- The Boolean expression which is tested is known as the **Test Condition** or **Exit Condition**.\n",
    "- Variables which are part of the Test condition are called **Loop Control Variables** or **Iteration Variables**. \n",
    "- Our goal is to make the Test condition False so that the loop stops. This is accomplished through changing the loop control variable within the body of the loop."
   ]
  },
  {
   "cell_type": "markdown",
   "metadata": {
    "slideshow": {
     "slide_type": "slide"
    }
   },
   "source": [
    "# Watch Me Code 1\n",
    "\n",
    "  ## Say My Name:\n",
    "- This program will say you name a number of times.\n",
    "- This is an example of a **Definite loop** because the number of iterations are pre-determined.\n"
   ]
  },
  {
   "cell_type": "markdown",
   "metadata": {
    "slideshow": {
     "slide_type": "slide"
    }
   },
   "source": [
    "# Check Yourself: Loop\n",
    "\n",
    "on which line is the test / exit condition?"
   ]
  },
  {
   "cell_type": "code",
   "execution_count": null,
   "metadata": {
    "slideshow": {
     "slide_type": "fragment"
    }
   },
   "outputs": [],
   "source": [
    "x = 1\n",
    "while x<5:\n",
    "    print(x, end=\" \")\n",
    "    x = x + 1\n",
    "    \n",
    "print(x)"
   ]
  },
  {
   "cell_type": "markdown",
   "metadata": {
    "slideshow": {
     "slide_type": "fragment"
    }
   },
   "source": [
    "A. `1`  \n",
    "B. `2`  \n",
    "C. `3`  \n",
    "D. `4`  \n",
    "\n",
    "### Vote Now: [https://poll.ist256.com](https://poll.ist256.com)"
   ]
  },
  {
   "cell_type": "markdown",
   "metadata": {
    "slideshow": {
     "slide_type": "slide"
    }
   },
   "source": [
    "# For Loop\n",
    "\n",
    "- The **For Loop** iterates over a python list, string, or range of numbers. \n",
    "- It is the preferred statement for **Definite loops**, where the number of iterations are pre-determined. Definite loops do not require an exit condition.\n",
    "- The for loop uses an **iterator** to select each item from the list or range and take action in the loop body. \n",
    "- The **range()** function is useful for getting an iterator of numbers.\n",
    "- The for loop and iterate over any iterable. \n"
   ]
  },
  {
   "cell_type": "code",
   "execution_count": null,
   "metadata": {
    "slideshow": {
     "slide_type": "fragment"
    }
   },
   "outputs": [],
   "source": [
    "for i in range(3):\n",
    "    print(\"Hello \")\n",
    "    \n",
    "for char in \"mike\":\n",
    "    print (char)"
   ]
  },
  {
   "cell_type": "markdown",
   "metadata": {
    "slideshow": {
     "slide_type": "slide"
    }
   },
   "source": [
    "# Range\n",
    "\n",
    "- The `range()` function returns an iterable.\n",
    "- `range(n)` returns `n` iterations from `0` to `n-1`"
   ]
  },
  {
   "cell_type": "code",
   "execution_count": null,
   "metadata": {
    "slideshow": {
     "slide_type": "fragment"
    }
   },
   "outputs": [],
   "source": [
    "print(\"range(10) =>\", list(range(10)) )\n",
    "print(\"range(1,10) =>\", list(range(1,10)) )\n",
    "print(\"range(1,10,2) =>\",list(range(1,10,2)) )"
   ]
  },
  {
   "cell_type": "markdown",
   "metadata": {
    "slideshow": {
     "slide_type": "slide"
    }
   },
   "source": [
    "# Watch Me Code 2\n",
    "\n",
    "## Say My Name:\n",
    "\n",
    "- Range() function\n",
    "- ***Refactored*** as a For Loop.\n"
   ]
  },
  {
   "cell_type": "markdown",
   "metadata": {
    "slideshow": {
     "slide_type": "slide"
    }
   },
   "source": [
    "# Check Yourself: For Range 1\n",
    "\n",
    "How many iterations are in this loop? "
   ]
  },
  {
   "cell_type": "code",
   "execution_count": 11,
   "metadata": {
    "slideshow": {
     "slide_type": "fragment"
    }
   },
   "outputs": [
    {
     "name": "stdout",
     "output_type": "stream",
     "text": [
      "0\n",
      "1\n",
      "3\n",
      "6\n",
      "10\n"
     ]
    }
   ],
   "source": [
    "k = 0\n",
    "j = 10\n",
    "for j in range(5):\n",
    "    k = k + j\n",
    "    print(k)"
   ]
  },
  {
   "cell_type": "markdown",
   "metadata": {
    "slideshow": {
     "slide_type": "fragment"
    }
   },
   "source": [
    "A. `0`  \n",
    "B. `10`  \n",
    "C. `5`  \n",
    "D. `Unknown`  \n",
    "\n",
    "### Vote Now: [https://poll.ist256.com](https://poll.ist256.com)"
   ]
  },
  {
   "cell_type": "markdown",
   "metadata": {
    "slideshow": {
     "slide_type": "slide"
    }
   },
   "source": [
    "# Check Yourself: For Range 2\n",
    "\n",
    "What is the value of k on line 4?\n"
   ]
  },
  {
   "cell_type": "code",
   "execution_count": 13,
   "metadata": {
    "slideshow": {
     "slide_type": "fragment"
    }
   },
   "outputs": [
    {
     "name": "stdout",
     "output_type": "stream",
     "text": [
      "k=0,j=0,k+j=0\n",
      "k=0,j=1,k+j=1\n",
      "k=1,j=2,k+j=3\n",
      "k=3,j=3,k+j=6\n",
      "k=6,j=4,k+j=10\n"
     ]
    }
   ],
   "source": [
    "k = 0\n",
    "for j in range(5):\n",
    "    print(f\"k={k},j={j},k+j={k+j}\")\n",
    "    k = k + j\n"
   ]
  },
  {
   "cell_type": "markdown",
   "metadata": {
    "slideshow": {
     "slide_type": "fragment"
    }
   },
   "source": [
    "A. `0`  \n",
    "B. `10`  \n",
    "C. `5`  \n",
    "D. `15`  \n",
    "\n",
    "### Vote Now: [https://poll.ist256.com](https://poll.ist256.com)"
   ]
  },
  {
   "cell_type": "markdown",
   "metadata": {
    "slideshow": {
     "slide_type": "slide"
    }
   },
   "source": [
    "# Watch Me Code 3\n",
    "\n",
    "## Count the \"i\"'s \n",
    "- Definite Loop\n"
   ]
  },
  {
   "cell_type": "markdown",
   "metadata": {
    "slideshow": {
     "slide_type": "slide"
    }
   },
   "source": [
    "# Indefinite,Infinite Loops and Break\n",
    "\n",
    "- The **Indefinite Loop** has no pre-determined exit condition. There are no guarantees an indefinite loop will end, as it is typically based on user input.\n",
    "- **Infinite Loops** are loops which can never reach their exit condition. These should be avoided at all costs.\n",
    "- The **break** statement is used to exit a loop immediately.It is often used to force an exit condition in the body of the loop.\n"
   ]
  },
  {
   "cell_type": "markdown",
   "metadata": {
    "slideshow": {
     "slide_type": "slide"
    }
   },
   "source": [
    "# Indefinite Loops The Easy Way\n",
    "\n",
    "1. Determine the code to repeat\n",
    "2. Determine the loop control variables & exit conditions\n",
    "3. Write exit conditions as **if** statements with **break**\n",
    "4. Wrap the code in a **while True:** loop!\n"
   ]
  },
  {
   "cell_type": "markdown",
   "metadata": {
    "slideshow": {
     "slide_type": "slide"
    }
   },
   "source": [
    "# Watch Me Code 4\n",
    "\n",
    "## Guess My Name:\n",
    "- This program will execute until you guess my name. \n",
    "- Uses the indefinite loop approach."
   ]
  },
  {
   "cell_type": "markdown",
   "metadata": {
    "slideshow": {
     "slide_type": "slide"
    }
   },
   "source": [
    "# Check Yourself: Loop Matching 1\n",
    "\n",
    "A loop where the test condition is never false is known as which kind of loop?\n",
    "   \n",
    " A. `Break`  \n",
    " B. `Infinite`  \n",
    " C. `Definite`  \n",
    " D. `Indefinite`  \n",
    "   \n",
    "### Vote Now: [https://poll.ist256.com](https://poll.ist256.com)\n",
    "   "
   ]
  },
  {
   "cell_type": "markdown",
   "metadata": {
    "slideshow": {
     "slide_type": "slide"
    }
   },
   "source": [
    "# Check Yourself: Loop Matching 2\n",
    "\n",
    "The Python keyword to exit a loop is?\n",
    "   \n",
    " A. `break`  \n",
    " B. `exit`  \n",
    " C. `quit`  \n",
    " D. `while`  \n",
    "   \n",
    "### Vote Now: [https://poll.ist256.com](https://poll.ist256.com)\n",
    "   \n",
    "   "
   ]
  },
  {
   "cell_type": "markdown",
   "metadata": {
    "slideshow": {
     "slide_type": "slide"
    }
   },
   "source": [
    "# End-To-End Example\n",
    "\n",
    "## Password Program:\n",
    "- 5 attempts for the password\n",
    "- On correct password, print: “Access Granted”, then end the program \n",
    "- On incorrect password “Invalid Password Attempt #” and give the user another try\n",
    "- After 5 attempts, print “You are locked out”. Then end the program.\n"
   ]
  },
  {
   "cell_type": "markdown",
   "metadata": {
    "slideshow": {
     "slide_type": "slide"
    }
   },
   "source": [
    "# Conclusion Activity Exit Ticket\n",
    "\n",
    "This program will output?\n"
   ]
  },
  {
   "cell_type": "code",
   "execution_count": 14,
   "metadata": {
    "slideshow": {
     "slide_type": "fragment"
    }
   },
   "outputs": [
    {
     "name": "stdout",
     "output_type": "stream",
     "text": [
      "ooxo"
     ]
    }
   ],
   "source": [
    "for x in 'mike':\n",
    "    if x == 'k':\n",
    "        print('x', end=\"\")\n",
    "    else:\n",
    "        print('o', end=\"\")"
   ]
  },
  {
   "cell_type": "markdown",
   "metadata": {
    "slideshow": {
     "slide_type": "fragment"
    }
   },
   "source": [
    "A. `xo`  \n",
    "B. `ox`  \n",
    "C. `ooxo`  \n",
    "D. `xxox`  \n",
    "\n",
    "### Vote Now: [https://poll.ist256.com](https://poll.ist256.com)"
   ]
  }
 ],
 "metadata": {
  "celltoolbar": "Slideshow",
  "kernelspec": {
   "display_name": "Python 3",
   "language": "python",
   "name": "python3"
  },
  "language_info": {
   "codemirror_mode": {
    "name": "ipython",
    "version": 3
   },
   "file_extension": ".py",
   "mimetype": "text/x-python",
   "name": "python",
   "nbconvert_exporter": "python",
   "pygments_lexer": "ipython3",
   "version": "3.8.6"
  },
  "toc": {
   "base_numbering": 1,
   "nav_menu": {},
   "number_sections": false,
   "sideBar": true,
   "skip_h1_title": false,
   "title_cell": "Table of Contents",
   "title_sidebar": "Contents",
   "toc_cell": false,
   "toc_position": {
    "height": "calc(100% - 180px)",
    "left": "10px",
    "top": "150px",
    "width": "212px"
   },
   "toc_section_display": true,
   "toc_window_display": false
  }
 },
 "nbformat": 4,
 "nbformat_minor": 2
}
