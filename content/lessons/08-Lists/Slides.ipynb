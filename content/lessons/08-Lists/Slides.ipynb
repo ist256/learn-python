{
 "cells": [
  {
   "cell_type": "markdown",
   "metadata": {
    "slideshow": {
     "slide_type": "slide"
    }
   },
   "source": [
    "# IST256 Lesson 08\n",
    "## Lists\n",
    "\n",
    "- Zybook Ch8\n",
    "- P4E Ch8\n",
    "- Exam Ch 4 (iterations),5 (functions),6 (strings), 7 (files)\n",
    "\n",
    "## Links\n",
    "\n",
    "- Participation: [https://poll.ist256.com](https://poll.ist256.com)\n",
    "- Zoom Chat\n"
   ]
  },
  {
   "cell_type": "markdown",
   "metadata": {
    "slideshow": {
     "slide_type": "slide"
    }
   },
   "source": [
    "# FEQT (Future Exam Questions Training) 1\n",
    "\n",
    "Which variable is the file handle?"
   ]
  },
  {
   "cell_type": "code",
   "execution_count": 1,
   "metadata": {
    "slideshow": {
     "slide_type": "fragment"
    }
   },
   "outputs": [
    {
     "ename": "FileNotFoundError",
     "evalue": "[Errno 2] No such file or directory: 'file.txt'",
     "output_type": "error",
     "traceback": [
      "\u001b[0;31m---------------------------------------------------------------------------\u001b[0m",
      "\u001b[0;31mFileNotFoundError\u001b[0m                         Traceback (most recent call last)",
      "\u001b[0;32m<ipython-input-1-23618fc84831>\u001b[0m in \u001b[0;36m<module>\u001b[0;34m\u001b[0m\n\u001b[1;32m      1\u001b[0m \u001b[0mw\u001b[0m \u001b[0;34m=\u001b[0m \u001b[0;34m\"file.txt\"\u001b[0m\u001b[0;34m\u001b[0m\u001b[0;34m\u001b[0m\u001b[0m\n\u001b[1;32m      2\u001b[0m \u001b[0mx\u001b[0m \u001b[0;34m=\u001b[0m \u001b[0;34m\"r\"\u001b[0m\u001b[0;34m\u001b[0m\u001b[0;34m\u001b[0m\u001b[0m\n\u001b[0;32m----> 3\u001b[0;31m \u001b[0;32mwith\u001b[0m \u001b[0mopen\u001b[0m\u001b[0;34m(\u001b[0m\u001b[0mw\u001b[0m\u001b[0;34m,\u001b[0m\u001b[0mx\u001b[0m\u001b[0;34m)\u001b[0m \u001b[0;32mas\u001b[0m \u001b[0my\u001b[0m\u001b[0;34m:\u001b[0m\u001b[0;34m\u001b[0m\u001b[0;34m\u001b[0m\u001b[0m\n\u001b[0m\u001b[1;32m      4\u001b[0m     \u001b[0mz\u001b[0m \u001b[0;34m=\u001b[0m \u001b[0my\u001b[0m\u001b[0;34m.\u001b[0m\u001b[0mread\u001b[0m\u001b[0;34m(\u001b[0m\u001b[0;34m)\u001b[0m\u001b[0;34m\u001b[0m\u001b[0;34m\u001b[0m\u001b[0m\n\u001b[1;32m      5\u001b[0m \u001b[0;34m\u001b[0m\u001b[0m\n",
      "\u001b[0;31mFileNotFoundError\u001b[0m: [Errno 2] No such file or directory: 'file.txt'"
     ]
    }
   ],
   "source": [
    "w = \"file.txt\"\n",
    "x = \"r\"\n",
    "with open(w,x) as y:\n",
    "    z = y.read()\n",
    "    \n",
    "# \"r\"\n",
    "# .read()\n",
    "# .readlines()\n",
    "\n",
    "# \"w\", \"a\"\n",
    "# .write(stuff)"
   ]
  },
  {
   "cell_type": "markdown",
   "metadata": {
    "slideshow": {
     "slide_type": "fragment"
    }
   },
   "source": [
    "A. w - variable that holds the filename   \n",
    "B. x - access mode of the open: \"r\", \"w\", \"a\"   \n",
    "C. y - file handle   <===   \n",
    "D. z - contents of the file   \n",
    " \n",
    "## Vote Now: [https://poll.ist256.com](https://poll.ist256.com)"
   ]
  },
  {
   "cell_type": "markdown",
   "metadata": {
    "slideshow": {
     "slide_type": "slide"
    }
   },
   "source": [
    "# FEQT (Future Exam Questions Training) 2\n",
    "\n",
    "What is written to this file?"
   ]
  },
  {
   "cell_type": "code",
   "execution_count": 3,
   "metadata": {
    "slideshow": {
     "slide_type": "fragment"
    }
   },
   "outputs": [],
   "source": [
    "w = \"file.txt\"\n",
    "x = \"w\"\n",
    "with open(w,x) as y:\n",
    "    for i in range(3):\n",
    "        y.write(f\"{i}\")\n",
    "        "
   ]
  },
  {
   "cell_type": "markdown",
   "metadata": {
    "slideshow": {
     "slide_type": "fragment"
    }
   },
   "source": [
    "A. `0 1 2 3`   \n",
    "B. `1 2 3`    \n",
    "C. `0 1 2`    \n",
    "D. None of the above  \n",
    " \n",
    "## Vote Now: [https://poll.ist256.com](https://poll.ist256.com)"
   ]
  },
  {
   "cell_type": "markdown",
   "metadata": {
    "slideshow": {
     "slide_type": "slide"
    }
   },
   "source": [
    "# Agenda\n",
    "\n",
    "### Homework 07\n",
    "\n",
    "- Solution\n",
    "\n",
    "### Lesson 08\n",
    "\n",
    "- Lists as a mutable sequence of values.\n",
    "- Indexing list values; slice notation.\n",
    "- List functions and operations like add, remove, update, find\n",
    "- Common patterns for list management.\n"
   ]
  },
  {
   "cell_type": "markdown",
   "metadata": {
    "slideshow": {
     "slide_type": "slide"
    }
   },
   "source": [
    "# Connect Activity\n",
    "\n",
    "For `x = [0,1,2,3,4,5]` what is  `x[2:4]` ?  \n",
    "    \n",
    "A. `[2,3]`  \n",
    "B. `[1,2,3]`  \n",
    "C. `[1,2]`  \n",
    "D. `[2,3,4,5]`\n",
    "\n",
    "### Vote Now: [https://poll.ist256.com](https://poll.ist256.com)"
   ]
  },
  {
   "cell_type": "markdown",
   "metadata": {
    "slideshow": {
     "slide_type": "slide"
    }
   },
   "source": [
    "# Lists are Mutable Sequence Types\n",
    "\n",
    "- Python **lists** are variables which hold a collection of values. They are actually ***sequences of values***.\n",
    "- Like strings, you can **index lists** and use **slice notation**.\n",
    "- Unlike strings, lists are **mutable** which means *they can be changed*.\n",
    "- In Python, type **list** is a ***sequence type***.\n"
   ]
  },
  {
   "cell_type": "markdown",
   "metadata": {},
   "source": [
    "# Purpose of Lists\n",
    "\n",
    "- Store collections of things. Stocks, grades, emails, words, etc...\n",
    "- Easier to manipulate than a string or file (no need to tokenize/parse).\n",
    "- Stored in the computer's memory, which is faster than files."
   ]
  },
  {
   "cell_type": "markdown",
   "metadata": {
    "slideshow": {
     "slide_type": "slide"
    }
   },
   "source": [
    "# Watch Me Code 1\n",
    "\n",
    "###  List Enumeration and Aggregates\n",
    "- Definite Loops\n",
    "- Indexes / Slices\n",
    "- List mutation\n",
    "- Aggregations\n"
   ]
  },
  {
   "cell_type": "markdown",
   "metadata": {
    "slideshow": {
     "slide_type": "slide"
    }
   },
   "source": [
    "# Check Yourself: List Indexes\n",
    "\n",
    "- What is the value of the expression on line 2?\n",
    "    \n"
   ]
  },
  {
   "cell_type": "code",
   "execution_count": 4,
   "metadata": {
    "slideshow": {
     "slide_type": "fragment"
    }
   },
   "outputs": [
    {
     "data": {
      "text/plain": [
       "['A', 'B+']"
      ]
     },
     "execution_count": 4,
     "metadata": {},
     "output_type": "execute_result"
    }
   ],
   "source": [
    "grades = ['A', 'B+','A','C+','B-']\n",
    "grades[:2]"
   ]
  },
  {
   "cell_type": "markdown",
   "metadata": {
    "slideshow": {
     "slide_type": "fragment"
    }
   },
   "source": [
    "A. `['A','B+','A']`  \n",
    "B. `['A','B+']`  \n",
    "C. `['B+','A']`  \n",
    "D. `['A']`  \n",
    " \n",
    "### Vote Now: [https://poll.ist256.com](https://poll.ist256.com)"
   ]
  },
  {
   "cell_type": "markdown",
   "metadata": {
    "slideshow": {
     "slide_type": "slide"
    }
   },
   "source": [
    "# List Operations\n",
    "\n",
    "Use the `+` operator to append combine two lists.\n",
    "\n",
    "Note this does appends them - it does not remove duplicates or sort the list. "
   ]
  },
  {
   "cell_type": "code",
   "execution_count": 9,
   "metadata": {
    "slideshow": {
     "slide_type": "fragment"
    }
   },
   "outputs": [
    {
     "data": {
      "text/plain": [
       "[1, 2, 3, 4, 5, 3]"
      ]
     },
     "execution_count": 9,
     "metadata": {},
     "output_type": "execute_result"
    }
   ],
   "source": [
    "#List operators\n",
    "x = [1,2,3]\n",
    "y = [4,5,3]\n",
    "z = x+y\n",
    "z"
   ]
  },
  {
   "cell_type": "markdown",
   "metadata": {
    "slideshow": {
     "slide_type": "slide"
    }
   },
   "source": [
    "# Built-In List Functions\n",
    "\n",
    "- Like strings, Python lists have an assortment of built in functions for ***mutable sequence types***:\n",
    "\n",
    "- For your reference:\n",
    "https://docs.python.org/3/library/stdtypes.html?highlight=list#mutable-sequence-types\n",
    "\n",
    "- Use your friends `dir()` and `help()`, too!\n"
   ]
  },
  {
   "cell_type": "markdown",
   "metadata": {
    "slideshow": {
     "slide_type": "slide"
    }
   },
   "source": [
    "# Watch Me Code 2\n",
    "\n",
    "### List Basics\n",
    "- Empty Lists\n",
    "- List Item Management\n",
    "- Methods: append, remove, index\n"
   ]
  },
  {
   "cell_type": "markdown",
   "metadata": {
    "slideshow": {
     "slide_type": "slide"
    }
   },
   "source": [
    "# Check Yourself 1: List Functions\n",
    "\n",
    "## Match the Definition…! To its term.\n",
    "Which list function **Adds anywhere in the list** ?\n",
    "\n",
    "\n",
    "A. `insert`  \n",
    "B. `remove`  \n",
    "C. `append`  \n",
    "D. `delete`\n",
    "\n",
    "### Vote Now: [https://poll.ist256.com](https://poll.ist256.com)"
   ]
  },
  {
   "cell_type": "markdown",
   "metadata": {
    "slideshow": {
     "slide_type": "slide"
    }
   },
   "source": [
    "# Check Yourself 2: List Functions\n",
    "\n",
    "## Match the Definition…! To its term.\n",
    "\n",
    "Which list function **Deletes an item from the list** ?\n",
    "\n",
    "A. `insert`  \n",
    "B. `remove`  \n",
    "C. `append`  \n",
    "D. `delete`\n",
    "\n",
    "### Vote Now: [https://poll.ist256.com](https://poll.ist256.com)"
   ]
  },
  {
   "cell_type": "markdown",
   "metadata": {
    "slideshow": {
     "slide_type": "slide"
    }
   },
   "source": [
    "# End-To-End Example:\n",
    "\n",
    "### Bad Password Checker\n",
    "- Read in list of bad passwords from file\n",
    "- Main program loop checks password  as \"good\" or \"bad\" password by checking if it exists in the file this repeats until user enters no password.\n",
    "- Bad passwords are not on the list of passwords\n",
    "- Got passwords from: https://raw.githubusercontent.com/berzerk0/Probable-Wordlists/master/Real-Passwords/Top12Thousand-probable-v2.txt\n",
    "- Finally record history of attempted passwords to another list."
   ]
  },
  {
   "cell_type": "markdown",
   "metadata": {
    "slideshow": {
     "slide_type": "slide"
    }
   },
   "source": [
    "# Conclusion Activity: One Question Challenge\n",
    "\n",
    "That is the value of `items` printed on line 6?\n"
   ]
  },
  {
   "cell_type": "code",
   "execution_count": null,
   "metadata": {
    "slideshow": {
     "slide_type": "fragment"
    }
   },
   "outputs": [],
   "source": [
    "items = ['a','b','c','d']\n",
    "items.append('w')\n",
    "items.remove('c')\n",
    "items.insert(0,'x')\n",
    "items.pop(1)\n",
    "print(items)"
   ]
  },
  {
   "cell_type": "markdown",
   "metadata": {
    "slideshow": {
     "slide_type": "fragment"
    }
   },
   "source": [
    "A. `['a','b','c','d', 'w']`       \n",
    "B. `['a','b','d', 'w']`  \n",
    "C. `['x', 'b', 'd', 'w']`   \n",
    "D. `['i','dont','know']`   \n",
    "\n",
    "### Vote Now: [https://poll.ist256.com](https://poll.ist256.com)"
   ]
  }
 ],
 "metadata": {
  "celltoolbar": "Slideshow",
  "kernelspec": {
   "display_name": "Python 3",
   "language": "python",
   "name": "python3"
  },
  "language_info": {
   "codemirror_mode": {
    "name": "ipython",
    "version": 3
   },
   "file_extension": ".py",
   "mimetype": "text/x-python",
   "name": "python",
   "nbconvert_exporter": "python",
   "pygments_lexer": "ipython3",
   "version": "3.8.6"
  },
  "toc": {
   "base_numbering": 1,
   "nav_menu": {},
   "number_sections": false,
   "sideBar": false,
   "skip_h1_title": false,
   "title_cell": "Table of Contents",
   "title_sidebar": "Contents",
   "toc_cell": false,
   "toc_position": {},
   "toc_section_display": false,
   "toc_window_display": false
  }
 },
 "nbformat": 4,
 "nbformat_minor": 2
}
