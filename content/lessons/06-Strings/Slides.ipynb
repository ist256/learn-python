{
 "cells": [
  {
   "cell_type": "markdown",
   "metadata": {
    "slideshow": {
     "slide_type": "slide"
    }
   },
   "source": [
    "# IST256 Lesson 06\n",
    "## Strings\n",
    "\n",
    "\n",
    "- Zybook Ch6\n",
    "- P4E Ch6\n",
    "\n",
    "\n",
    "## Links\n",
    "\n",
    "- Participation: [https://poll.ist256.com](https://poll.ist256.com) <= AZURE IS DOWN!\n",
    "- Ask in your Zoom Chat\n"
   ]
  },
  {
   "cell_type": "markdown",
   "metadata": {
    "slideshow": {
     "slide_type": "slide"
    }
   },
   "source": [
    "# Agenda\n",
    "\n",
    "Homework 05\n",
    "\n",
    "- Quick Review of the Solution\n",
    "\n",
    "Strings\n",
    "- Strings are immutable sequence of characters.\n",
    "- Index and Slice notation for retrieving sub-strings.\n",
    "- Built-in string functions to perform operations on strings.\n",
    "- Techniques for parsing and tokenizing string data.\n",
    "- How to sanitize input with string functions.\n"
   ]
  },
  {
   "cell_type": "markdown",
   "metadata": {
    "slideshow": {
     "slide_type": "slide"
    }
   },
   "source": [
    "# FEQT (Future Exam Questions Training) 1\n",
    "\n",
    "What is the output of the following code?\n"
   ]
  },
  {
   "cell_type": "code",
   "execution_count": 4,
   "metadata": {
    "slideshow": {
     "slide_type": "fragment"
    }
   },
   "outputs": [
    {
     "name": "stdout",
     "output_type": "stream",
     "text": [
      "8\n"
     ]
    }
   ],
   "source": [
    "def doit(a,b):\n",
    "    return a+b\n",
    "\n",
    "x = 4\n",
    "y = 3\n",
    "z = doit(x,x)\n",
    "print(z)"
   ]
  },
  {
   "cell_type": "markdown",
   "metadata": {
    "slideshow": {
     "slide_type": "fragment"
    }
   },
   "source": [
    "A. 8  \n",
    "B. 7  \n",
    "C. Error (NameError)  \n",
    "D. 6  \n",
    " \n",
    " BROKEN!!!\n",
    "### Vote Now: [https://poll.ist256.com](https://poll.ist256.com)\n"
   ]
  },
  {
   "cell_type": "markdown",
   "metadata": {
    "slideshow": {
     "slide_type": "slide"
    }
   },
   "source": [
    "# FEQT (Future Exam Questions Training) 2\n",
    "\n",
    "Given the following input `4` what is the output?\n"
   ]
  },
  {
   "cell_type": "code",
   "execution_count": null,
   "metadata": {
    "slideshow": {
     "slide_type": "fragment"
    }
   },
   "outputs": [],
   "source": [
    "x = int(input())\n",
    "z = 0\n",
    "for i in range(x):\n",
    "    z = z + i\n",
    "print(z)"
   ]
  },
  {
   "cell_type": "markdown",
   "metadata": {
    "slideshow": {
     "slide_type": "fragment"
    }
   },
   "source": [
    "A. 3  \n",
    "B. 4  \n",
    "C. 6  \n",
    "D. 10  \n",
    " \n",
    "### Vote Now: [https://poll.ist256.com](https://poll.ist256.com)\n"
   ]
  },
  {
   "cell_type": "markdown",
   "metadata": {
    "slideshow": {
     "slide_type": "slide"
    }
   },
   "source": [
    "# FEQT (Future Exam Questions Training) 2\n",
    "\n",
    "Given the following input `4` what is the output?\n"
   ]
  },
  {
   "cell_type": "code",
   "execution_count": 6,
   "metadata": {
    "slideshow": {
     "slide_type": "fragment"
    }
   },
   "outputs": [
    {
     "name": "stdout",
     "output_type": "stream",
     "text": [
      "4\n",
      "3\n"
     ]
    }
   ],
   "source": [
    "def x(a,b):\n",
    "    return b\n",
    "\n",
    "w = int(input())\n",
    "y = 2\n",
    "for i in range(w):\n",
    "    z = x(i,y)\n",
    "    t = x(y,i)\n",
    "print(t)"
   ]
  },
  {
   "cell_type": "markdown",
   "metadata": {
    "slideshow": {
     "slide_type": "fragment"
    }
   },
   "source": [
    "A. 8  \n",
    "B. 6  \n",
    "C. 4  \n",
    "D. 2  \n",
    " \n",
    "### Vote Now: [https://poll.ist256.com](https://poll.ist256.com)\n"
   ]
  },
  {
   "attachments": {
    "image.png": {
     "image/png": "[encoded data removed]"
    }
   },
   "cell_type": "markdown",
   "metadata": {
    "slideshow": {
     "slide_type": "slide"
    }
   },
   "source": [
    "# Strings are Sequences of Characters\n",
    "\n",
    "- **Strings** are index able sequences of characters. \n",
    "- The characters inside the string are **immutable**.\n",
    "![image.png](attachment:image.png)\n",
    "- **Example:**\n",
    "    - **<font color='green'> Name = 'Fudge'</font>**\n",
    "    - **<font color='green'>len(Name) == 5</font>**\n",
    "- Immutable means we can’t change part of it:\n",
    "    - **<font color='red'>Name[1] = 'u'</font>**"
   ]
  },
  {
   "attachments": {
    "image.png": {
     "image/png": "[encoded data removed]"
    }
   },
   "cell_type": "markdown",
   "metadata": {
    "slideshow": {
     "slide_type": "slide"
    }
   },
   "source": [
    "# Slice Notation\n",
    "\n",
    "- **Slice Notation** is used to extract a substring.\n",
    "![image.png](attachment:image.png)\n",
    "- **Examples:**\n",
    "    - **<font color='green'>Name[0:2] == 'Fu'</font>**\n",
    "    - **<font color='green'>Name[2:5] == 'dge'</font>**\n",
    "    - **<font color='green'>Name[:4] == 'Fudg'</font>**\n",
    "    - **<font color='green'>Name[:] == 'Fudge'</font>**\n",
    "    - **<font color='green'>Name[1:-1] == 'udg</font>**\n",
    "\n",
    "\n"
   ]
  },
  {
   "cell_type": "markdown",
   "metadata": {
    "slideshow": {
     "slide_type": "slide"
    }
   },
   "source": [
    "# Check Yourself: String Slices 1\n",
    "\n",
    "####  Match each string slice to its value for this string:\n",
    " &nbsp;&nbsp;&nbsp;&nbsp;&nbsp;&nbsp;&nbsp;&nbsp;&nbsp;&nbsp;&nbsp;&nbsp;&nbsp;&nbsp;&nbsp;&nbsp;&nbsp;&nbsp;`x ='orange'`\n",
    "\n",
    "**&nbsp;&nbsp;&nbsp;&nbsp;&nbsp; x[1:6]**  \n",
    "\n",
    "   &nbsp;&nbsp; `A. 'ang'`    \n",
    "   &nbsp;&nbsp; `B. 'rang'`   \n",
    "   &nbsp;&nbsp; `C. 'range'`\n",
    "   \n",
    "### Vote Now: [https://poll.ist256.com](https://poll.ist256.com)\n",
    "   "
   ]
  },
  {
   "cell_type": "markdown",
   "metadata": {
    "slideshow": {
     "slide_type": "slide"
    }
   },
   "source": [
    "# Check Yourself: String Slices 2\n",
    "\n",
    "####  Match each string slice to its value for this string:\n",
    "&nbsp;&nbsp;&nbsp;&nbsp;&nbsp;&nbsp;&nbsp;&nbsp;&nbsp;&nbsp;&nbsp;&nbsp;&nbsp;&nbsp;&nbsp;&nbsp;&nbsp;&nbsp;`x ='orange'`\n",
    "\n",
    "**&nbsp;&nbsp;&nbsp;&nbsp;&nbsp;&nbsp; x[2:-1]**    \n",
    "\n",
    "   &nbsp;&nbsp; `A. 'ang'`    \n",
    "   &nbsp;&nbsp; `B. 'rang'`     \n",
    "   &nbsp;&nbsp; `C. 'range'`  \n",
    "   \n",
    "### Vote Now: [https://poll.ist256.com](https://poll.ist256.com)\n",
    "   "
   ]
  },
  {
   "cell_type": "markdown",
   "metadata": {
    "slideshow": {
     "slide_type": "slide"
    }
   },
   "source": [
    "# String functions:\n",
    "\n",
    "- **Built In** String Functions: \n",
    "    https://docs.python.org/3/library/stdtypes.html#text-sequence-type-str \n",
    "    - `dir(str)`\n",
    "    - `help(str.upper)`\n",
    "- The Python String Library:\n",
    "    https://docs.python.org/3/library/string.html\n",
    "    - You must `import String` before you can use them."
   ]
  },
  {
   "cell_type": "markdown",
   "metadata": {
    "slideshow": {
     "slide_type": "slide"
    }
   },
   "source": [
    "# Watch Me Code 1\n",
    "\n",
    "### Yes or No?\n",
    "- Write a function to accept a variety of inputs as \"yes\" or \"no\"\n",
    "- **<font color='green'> \"yes\" <span>&#8594;</span>  \"y\", \"Y\", \"YES\", \"Yes\" etc… </font>**\n",
    "- **<font color='green'>\"no\" <span>&#8594;</span> \"n\", \"N\", \"NO\", \"No\", etc…</font>**\n"
   ]
  },
  {
   "cell_type": "markdown",
   "metadata": {
    "slideshow": {
     "slide_type": "slide"
    }
   },
   "source": [
    "# Check Yourself: Code Trace 1\n",
    "\n",
    "What is the value of the variable y on line 2? "
   ]
  },
  {
   "cell_type": "code",
   "execution_count": 7,
   "metadata": {
    "slideshow": {
     "slide_type": "fragment"
    }
   },
   "outputs": [
    {
     "data": {
      "text/plain": [
       "'MKKE'"
      ]
     },
     "execution_count": 7,
     "metadata": {},
     "output_type": "execute_result"
    }
   ],
   "source": [
    "x = \"Mike\"\n",
    "y = x.upper().replace(\"I\",\"K\")\n",
    "y"
   ]
  },
  {
   "cell_type": "markdown",
   "metadata": {
    "slideshow": {
     "slide_type": "fragment"
    }
   },
   "source": [
    "A. `'Miie'`  \n",
    "B. `'MKKE'`   \n",
    "C. `'MIIE'`  \n",
    "D. `'Mkke'`  \n",
    "### Vote Now: [https://poll.ist256.com](https://poll.ist256.com)"
   ]
  },
  {
   "cell_type": "markdown",
   "metadata": {
    "slideshow": {
     "slide_type": "slide"
    }
   },
   "source": [
    "# String Tokenization and Parsing\n",
    "\n",
    "- **Tokenization**  is the process of breaking up a string into words, phrases, or symbols. \n",
    "    - Tokenize a sentence into words.\n",
    "    - `\"mike is here\"` becomes  `['mike','is','here']`\n",
    "- **Parsing** is the process of extracting meaning from a string. \n",
    "    - Parse text to a numerical value or date.\n",
    "    - `int('45')` becomes `45`\n",
    "\n",
    "\n"
   ]
  },
  {
   "cell_type": "markdown",
   "metadata": {
    "slideshow": {
     "slide_type": "slide"
    }
   },
   "source": [
    "# Watch Me Code 2\n",
    "\n",
    "Given a string of digits: e.g. `'12 45 90'`\n",
    "1. Tokenize into individual strings\n",
    "2. Parse into integers\n",
    "3. Add them up!\n"
   ]
  },
  {
   "cell_type": "markdown",
   "metadata": {
    "slideshow": {
     "slide_type": "slide"
    }
   },
   "source": [
    "# Check Yourself: Code Trace 2\n",
    "\n",
    "What is the output of this program? "
   ]
  },
  {
   "cell_type": "code",
   "execution_count": null,
   "metadata": {
    "slideshow": {
     "slide_type": "fragment"
    }
   },
   "outputs": [],
   "source": [
    "text = \"This is mike\"\n",
    "for word in text.split(\"i\"):\n",
    "    print(word[1], end='')"
   ]
  },
  {
   "cell_type": "markdown",
   "metadata": {
    "slideshow": {
     "slide_type": "fragment"
    }
   },
   "source": [
    "A. `This`  \n",
    "B. `T`  \n",
    "C. `Tim`  \n",
    "D. `mike`\n",
    "### Vote Now: [https://poll.ist256.com](https://poll.ist256.com)"
   ]
  },
  {
   "cell_type": "markdown",
   "metadata": {
    "slideshow": {
     "slide_type": "slide"
    }
   },
   "source": [
    "# End-To-End Example\n",
    "\n",
    "**Parsing Tweets**\n",
    "\n",
    "Let write a program which takes a tweet as input and extracts out the hashtags and mentions.\n",
    "\n",
    "`#hashtag` `@mention`\n",
    "\n",
    "### Structure of a python program\n",
    "\n",
    "1. imports\n",
    "2. user-defined function\n",
    "3. main code or interact function which executes the main code\n"
   ]
  },
  {
   "cell_type": "markdown",
   "metadata": {
    "slideshow": {
     "slide_type": "slide"
    }
   },
   "source": [
    "# Conclusion Activity : One Question Challenge\n",
    "\n",
    "\n",
    "What is the value of:  \n",
    "&nbsp;&nbsp;&nbsp;&nbsp;&nbsp;&nbsp;&nbsp;&nbsp;`x[4:8]`  \n",
    "When **`x = 'Syracuse'`?\n",
    "\n",
    "A. `'Syracuse'`  \n",
    "B. `'cuse'`  \n",
    "C. `'Syra'`  \n",
    "D. `'acuse'`  \n"
   ]
  }
 ],
 "metadata": {
  "celltoolbar": "Slideshow",
  "kernelspec": {
   "display_name": "Python 3",
   "language": "python",
   "name": "python3"
  },
  "language_info": {
   "codemirror_mode": {
    "name": "ipython",
    "version": 3
   },
   "file_extension": ".py",
   "mimetype": "text/x-python",
   "name": "python",
   "nbconvert_exporter": "python",
   "pygments_lexer": "ipython3",
   "version": "3.8.6"
  },
  "toc": {
   "base_numbering": 1,
   "nav_menu": {},
   "number_sections": false,
   "sideBar": false,
   "skip_h1_title": false,
   "title_cell": "Table of Contents",
   "title_sidebar": "Contents",
   "toc_cell": false,
   "toc_position": {},
   "toc_section_display": false,
   "toc_window_display": false
  }
 },
 "nbformat": 4,
 "nbformat_minor": 2
}
