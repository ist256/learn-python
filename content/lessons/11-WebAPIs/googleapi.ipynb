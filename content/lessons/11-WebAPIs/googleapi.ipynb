{
 "cells": [
  {
   "cell_type": "markdown",
   "metadata": {},
   "source": [
    "# Google Functions\n",
    "\n",
    "From previous In Class, functions written to be used as a module\n"
   ]
  },
  {
   "cell_type": "code",
   "execution_count": 2,
   "metadata": {},
   "outputs": [],
   "source": [
    "import requests\n",
    "\n",
    "def googleGeocode(google_api_key, location):\n",
    "    headers = { 'Api-Key' : google_api_key }\n",
    "    params = {'location' : location }\n",
    "    response = requests.get('https://api.ist256.com/google/geocode', headers=headers, params=params)\n",
    "    response.raise_for_status()\n",
    "    data = response.json()\n",
    "    latlng = data['results'][0]['geometry']['location']\n",
    "    return latlng\n",
    "\n",
    "\n",
    "def googlePlacesSearch(google_api_key, lat, lng, place_type, keyword=None):\n",
    "    headers = { 'Api-Key' : google_api_key }\n",
    "    params = {'lat' : lat, 'lng' :lng, 'type' : place_type }\n",
    "    if keyword != None:\n",
    "        params['keyword'] = keyword\n",
    "    response = requests.get('https://api.ist256.com/google/places/search', headers=headers, params=params)\n",
    "    response.raise_for_status()\n",
    "    data = response.json()\n",
    "    return data['results']\n",
    "    \n",
    "def googlePlacesDetails(google_api_key, place_id):\n",
    "    headers = { 'Api-Key' : google_api_key }\n",
    "    params = {'placeid' : place_id}\n",
    "    response = requests.get('https://api.ist256.com/google/places/details', headers=headers, params=params)\n",
    "    response.raise_for_status()\n",
    "    data = response.json()\n",
    "    return data['result']\n",
    "\n",
    "def example(google_api_key):\n",
    "    place = 'university'\n",
    "    location = \"Syracuse, NY\"\n",
    "    print(f\"Searching for {place} in {location}\")\n",
    "    latlng = googleGeocode(google_api_key,location)\n",
    "    uni = googlePlacesSearch(google_api_key, latlng['lat'], latlng['lng'], 'university')\n",
    "    id = uni[0]['place_id']\n",
    "    detail = googlePlacesDetails(google_api_key, id)\n",
    "    print(f\"FOUND: {detail['name']} {detail['website']}\")\n",
    "\n",
    "    "
   ]
  },
  {
   "cell_type": "code",
   "execution_count": 4,
   "metadata": {},
   "outputs": [
    {
     "name": "stdout",
     "output_type": "stream",
     "text": [
      "Searching for university in Syracuse, NY\n",
      "FOUND: Syracuse University https://www.syracuse.edu/\n"
     ]
    }
   ],
   "source": [
    "if False:\n",
    "    example('751838d6b9978955679461c80a7df60bde4f093d')"
   ]
  },
  {
   "cell_type": "code",
   "execution_count": null,
   "metadata": {},
   "outputs": [],
   "source": []
  }
 ],
 "metadata": {
  "kernelspec": {
   "display_name": "Python 3",
   "language": "python",
   "name": "python3"
  },
  "language_info": {
   "codemirror_mode": {
    "name": "ipython",
    "version": 3
   },
   "file_extension": ".py",
   "mimetype": "text/x-python",
   "name": "python",
   "nbconvert_exporter": "python",
   "pygments_lexer": "ipython3",
   "version": "3.8.6"
  }
 },
 "nbformat": 4,
 "nbformat_minor": 4
}
