{
 "cells": [
  {
   "cell_type": "markdown",
   "metadata": {
    "slideshow": {
     "slide_type": ""
    }
   },
   "source": [
    "# IST256 Applications Programming For Information Systems\n",
    "\n",
    "## Spring 2021\n",
    "\n",
    "## Michael Fudge\n",
    "\n",
    "Please ask your questions in the zoom chat they will be addressed in the beginning of class."
   ]
  },
  {
   "cell_type": "markdown",
   "metadata": {
    "slideshow": {
     "slide_type": "slide"
    }
   },
   "source": [
    "# Questions\n",
    "\n",
    "\n"
   ]
  },
  {
   "cell_type": "markdown",
   "metadata": {
    "slideshow": {
     "slide_type": "slide"
    }
   },
   "source": [
    "# Understanding Forced/Distributed Practice\n",
    "\n",
    "Learning is distributed across the week, and forced upon you through participation activities. Why is it forced? This is a course for underclassmen!\n",
    "\n",
    "1. **Read before large group.** This is your initial exposure to the topic. Record questions, doubts, and uncertainties you have as you read. This is participation graded. Z01-Z10\n",
    "2. **Large group**. Reinforce what you learned through your reading. You observe these topics within the Jupyterhub context. No writing code at this point, only reading. You are \n",
    "3. **Lab**. Your first foray into writing code, you are eased into it. There is reading code and writing code, and walk-through video should you need it. This is participation graded. L01-L13\n",
    "4. **Small Group**. This is your first foray into problem solving with code. It's done in a group setting. Participation is graded. S01-S13\n",
    "5. **Homework**. This is an opportunity to demonstrate you can problem-solve a code solution on your own with minimal assistance. There are advice videos, and of course support. This is graded. H01-H13"
   ]
  },
  {
   "cell_type": "markdown",
   "metadata": {
    "slideshow": {
     "slide_type": "slide"
    }
   },
   "source": [
    "# What will we do in Large Group?\n",
    "\n",
    "- A time for reinforcing what you read in the Zybook / Severance.\n",
    "- We also go over the previous week's homework.\n",
    "- Concepts are reinforced through code examples, in JupyterHub.\n",
    "- Active learning lecture with polls and Chat.\n",
    "- Don't be afraid to ask questions. This is YOUR TIME. USE IT.\n",
    "\n"
   ]
  },
  {
   "cell_type": "markdown",
   "metadata": {
    "slideshow": {
     "slide_type": "slide"
    }
   },
   "source": [
    "# Large Group Do's and Dont's\n",
    "\n",
    "## DO:\n",
    "- Mute your Mic / Turn off your Webcam. :-(\n",
    "- Keep your chat window open. \n",
    "- Participate in polls and ask questions via the chat!\n",
    "\n",
    "## DONT\n",
    "- Try to code along with me. Its too soon for that! Observe and ask questions! You have access to the code I write anyways.\n",
    "- Don't be afraid to tell me to slow down or repeat something! I am lecturing in a vacuum and NEED your feedback."
   ]
  },
  {
   "cell_type": "markdown",
   "metadata": {
    "slideshow": {
     "slide_type": "slide"
    }
   },
   "source": [
    "# Agenda\n",
    "\n",
    "- What you should have done already! \n",
    "- Recitation This week \n",
    "- Lesson 01 Introduction to Python Programing"
   ]
  },
  {
   "cell_type": "markdown",
   "metadata": {
    "slideshow": {
     "slide_type": "slide"
    }
   },
   "source": [
    "# What you should have done already!\n",
    "\n",
    "\n",
    "- Read and Review Syllabus: [https://ist256.github.io](https://ist256.github.io)\n",
    "- Watch the Survival guide: [https://youtu.be/x_zltg1AzaQ](https://youtu.be/x_zltg1AzaQ)\n",
    "- Activate your Zybook: [http://ist256.com/syllabus/#activating-your-zybook](http://ist256.com/syllabus/#activating-your-zybook)\n",
    "- Read Lesson 01: [http://ist256.com/content/#lesson-01-introduction](http://ist256.com/content/#lesson-01-introduction)\n",
    "- Record any Questions For Large Group"
   ]
  },
  {
   "cell_type": "markdown",
   "metadata": {
    "slideshow": {
     "slide_type": "slide"
    }
   },
   "source": [
    "# In Small Group This Week\n",
    "\n",
    "- Meet Your Professor and small group mates\n",
    "- Understand how we use Jupyterhub (Code samples, turning in Labs and Homework).\n",
    "- Go through our first small group problem-solving activity.\n",
    "- Review due dates on syllabus and set expectations for next week. "
   ]
  },
  {
   "cell_type": "markdown",
   "metadata": {
    "slideshow": {
     "slide_type": "slide"
    }
   },
   "source": [
    "# IST256 Lesson 01\n",
    "## Introduction to Python Programming\n",
    "\n",
    "\n",
    "- Zybook Ch 1\n",
    "- Severance Ch 1\n",
    "- Your prepared questions\n",
    "\n",
    "## Links\n",
    "\n",
    "- Participation: [https://poll.ist256.com](https://poll.ist256.com)  (Sign in with *netid*@syr.edu and your SU Password.)\n",
    "- In-Class Questions: Zoom Chat\n"
   ]
  },
  {
   "cell_type": "markdown",
   "metadata": {
    "slideshow": {
     "slide_type": "slide"
    }
   },
   "source": [
    "# Connect Activity\n",
    "\n",
    "Have you programmed a computer before?\n",
    "\n",
    "A. YES  \n",
    "B. NO  \n",
    "C. No Sure  \n",
    "D. Rather Not Say  \n",
    "\n",
    "## Vote Now: [https://poll.ist256.com](https://poll.ist256.com)"
   ]
  },
  {
   "cell_type": "markdown",
   "metadata": {
    "slideshow": {
     "slide_type": "slide"
    }
   },
   "source": [
    "# What is programming (a.k.a. Coding)?\n",
    "\n",
    "- **Programming** is the act of you telling the computer to perform a series of tasks.\n",
    "- You must tell the computer **exactly** what you want it to do, and must do so in a way that it can understand.\n",
    "- The instructions we give the computer is called **code** or **program**.\n",
    "- Code which follows an sequence of steps is known as an **algorithm**.\n",
    "- Algorithms do not need to be written in code."
   ]
  },
  {
   "cell_type": "markdown",
   "metadata": {
    "slideshow": {
     "slide_type": "slide"
    }
   },
   "source": [
    "# How Mike Eats M&M's ++\n",
    "\n",
    "```\n",
    "1. Open bag\n",
    "2. While bag is not empty:\n",
    "3.   Pour out handful of M&M's\n",
    "4.   Toss into mouth\n",
    "5.   Chew and Swallow Euphorically\n",
    "6. Pout now that the bag is empty.\n",
    "```\n",
    "\n",
    "++ Example of an algorithm not written in code\n"
   ]
  },
  {
   "cell_type": "markdown",
   "metadata": {
    "slideshow": {
     "slide_type": "slide"
    }
   },
   "source": [
    "# Q: Why is Programming Notoriourly Diffciult?\n"
   ]
  },
  {
   "cell_type": "markdown",
   "metadata": {
    "slideshow": {
     "slide_type": "fragment"
    }
   },
   "source": [
    "# A: It's Not\n",
    "\n",
    "### \"Writing code is relatively straightforward; solving problems with code is not.\"  -- Your Professor\n",
    "\n",
    "### \"The purpose of coding is to solve problems.\" --  Your Professor, Again"
   ]
  },
  {
   "cell_type": "markdown",
   "metadata": {
    "slideshow": {
     "slide_type": "slide"
    }
   },
   "source": [
    "# Problem Solving With Code\n",
    "\n",
    "- **Is**\n",
    "  - Difficult\n",
    "  - Time Consuming\n",
    "  - Frustrating\n",
    "  - Rewarding\n",
    "- **Requires**\n",
    "  - Patience\n",
    "  - Precision\n",
    "  - Persistence\n",
    "  - Practice (Lots of it)"
   ]
  },
  {
   "cell_type": "markdown",
   "metadata": {
    "slideshow": {
     "slide_type": "slide"
    }
   },
   "source": [
    "# Course Learning Outcomes Will Not Come Easy\n",
    "\n",
    "- Analyze complex problems by thinking computationally and systematically.\n",
    "- Solve practical, real-world problems using a modern computer programming language..\n",
    "- Demonstrate the ability to read, write, discuss and code confidently.\n",
    "- Understand how to code in teams, collaborate with others and manage source code.\n",
    "- Acquire new programming knowledge independently."
   ]
  },
  {
   "cell_type": "markdown",
   "metadata": {
    "slideshow": {
     "slide_type": "slide"
    }
   },
   "source": [
    "# Why Learn the Python Programming Language?\n",
    "\n",
    "- Easy to learn with simple syntax.\n",
    "- Has a wealth of existing code you can leverage in your programs.\n",
    "- You can do complex things with very little typing.\n",
    "- Very popular with information professionals (Data Science, Analytics, Information Security).\n",
    "- Consistently one of the top 5 programming languages on the TIOBE Index [https://www.tiobe.com/tiobe-index/](https://www.tiobe.com/tiobe-index/)"
   ]
  },
  {
   "cell_type": "markdown",
   "metadata": {
    "slideshow": {
     "slide_type": "slide"
    }
   },
   "source": [
    "# Enough Talk! Let's Get Doing!\n"
   ]
  },
  {
   "cell_type": "markdown",
   "metadata": {
    "slideshow": {
     "slide_type": "slide"
    }
   },
   "source": [
    "# Your First Problem Solving Approach:\n",
    "\n",
    "## Input => Process => Output\n",
    "\n",
    "1. Identify the problem inputs (requirements)\n",
    "2. Identify the problem outputs (results)\n",
    "3. Write an algorithm to transform inputs to outputs.\n",
    "4. If you don't know how to do a step... research it!\n",
    "\n"
   ]
  },
  {
   "cell_type": "markdown",
   "metadata": {
    "slideshow": {
     "slide_type": "slide"
    }
   },
   "source": [
    "# Python Output\n",
    "\n",
    "- The built in function `print()` is used to display output in Python.\n",
    "- It takes one argument in single or double quotes known as a string literal. \n",
    "- The string literal is enclosed in single or double quotes. `'hi'` or `\"hi\"`\n",
    "- Multiple string literals may be separated by a comma.\n"
   ]
  },
  {
   "cell_type": "markdown",
   "metadata": {
    "slideshow": {
     "slide_type": "slide"
    }
   },
   "source": [
    "# Watch Me Code 1\n",
    "\n",
    "Demonstrating Python's built in `print()` function:\n",
    "\n",
    "- String literals\n",
    "- Single and double quotes\n",
    "- More than one argument to the function\n"
   ]
  },
  {
   "cell_type": "markdown",
   "metadata": {
    "slideshow": {
     "slide_type": "slide"
    }
   },
   "source": [
    "# Check Yourself 1\n",
    "\n",
    "Which Python statement will output `welcome` ?\n",
    "\n",
    "A. `print(welcome)`  \n",
    "B. `print(\"welcome\")`  \n",
    "C. `print \"welcome\"`  \n",
    "D. `print welcome` \n",
    "\n",
    "## Vote Now: [https://poll.ist256.com](https://poll.ist256.com)\n",
    "\n"
   ]
  },
  {
   "cell_type": "markdown",
   "metadata": {
    "slideshow": {
     "slide_type": "slide"
    }
   },
   "source": [
    "# Variables\n",
    "\n",
    "- **Variables** are named areas of computer memory for storing data. \n",
    "- The **variable name** can be anything but should make symbolic sense to the programmer.\n",
    "- We **write** to the variable’s memory location with the *assignment statement* (=)\n",
    "- We **read** from the variable by calling its name. \n",
    "- Variable names must begin with a letter or _ and must only contain letters, numbers or _.\n"
   ]
  },
  {
   "cell_type": "markdown",
   "metadata": {
    "slideshow": {
     "slide_type": "slide"
    }
   },
   "source": [
    "# Python Input\n",
    "\n",
    "- The built in function `input()` accepts input from the user. \n",
    "- It takes one argument a **string literal** which prompts (provides instructions to the user).\n",
    "- Input is commonly assigned to a **variable** so that the input can be used later on. \n"
   ]
  },
  {
   "cell_type": "markdown",
   "metadata": {
    "slideshow": {
     "slide_type": "slide"
    }
   },
   "source": [
    "# Watch Me Code 2\n",
    "\n",
    "- The built in `input()` function\n",
    "- Using a prompt\n",
    "- Storing the output from `input()` into a variable\n",
    "- Printing the variable"
   ]
  },
  {
   "cell_type": "markdown",
   "metadata": {
    "slideshow": {
     "slide_type": "slide"
    }
   },
   "source": [
    "# Check Yourself 2\n",
    "\n",
    "For the following code, which is the prompt?  \n",
    "`x = input('y')`\n",
    "\n",
    "A. `input`  \n",
    "B. `'y'`  \n",
    "C. `=`  \n",
    "D. `x`  \n",
    "\n",
    "## Vote Now: [https://poll.ist256.com](https://poll.ist256.com)"
   ]
  },
  {
   "cell_type": "markdown",
   "metadata": {
    "slideshow": {
     "slide_type": "slide"
    }
   },
   "source": [
    "# F-Strings\n",
    "\n",
    "- F-Strings are Python's answer to **string interpolation**.\n",
    "- This replaces the variable name with its value within a string.\n",
    "- Called an F-string because the `f` tells Python to interpolate the string.\n"
   ]
  },
  {
   "cell_type": "code",
   "execution_count": 4,
   "metadata": {
    "slideshow": {
     "slide_type": "fragment"
    }
   },
   "outputs": [
    {
     "name": "stdout",
     "output_type": "stream",
     "text": [
      "{name} was curious.\n",
      "George was curious.\n"
     ]
    }
   ],
   "source": [
    "name = 'George'\n",
    "print(\"{name} was curious.\")\n",
    "print(f\"{name} was curious.\")"
   ]
  },
  {
   "cell_type": "markdown",
   "metadata": {
    "slideshow": {
     "slide_type": "slide"
    }
   },
   "source": [
    "# Watch Me Code 3\n",
    "\n",
    "Put the `input()` and `print()` statements together.\n",
    "\n",
    "- Inputs and outputs into a program\n",
    "- Prompts that change based on input\n",
    "- Demonstrate use of `sep` and `end` arguments to `print()`\n",
    "- F-Strings for formatting variables through interpolation.\n"
   ]
  },
  {
   "cell_type": "markdown",
   "metadata": {
    "slideshow": {
     "slide_type": "slide"
    }
   },
   "source": [
    "# End To End Example\n",
    "\n",
    "### Limerick Generator!\n",
    "\n",
    "- Write a program to prompt to create a custom limerick poem based on the inputs.\n",
    "\n",
    "Here's the story I want to make:\n",
    "\n",
    "- There once was a man named `[mans-name]`. He liked to eat `[food-rhymes-with-name]`. One day he ate so much `[food-rhymes-with-name]`, that he got the `[ailment]`, and had to run to the `[place-rhymes-with-name]`.\n",
    "- Input? Output? Process?"
   ]
  },
  {
   "cell_type": "code",
   "execution_count": null,
   "metadata": {},
   "outputs": [],
   "source": []
  }
 ],
 "metadata": {
  "celltoolbar": "Slideshow",
  "kernelspec": {
   "display_name": "Python 3",
   "language": "python",
   "name": "python3"
  },
  "language_info": {
   "codemirror_mode": {
    "name": "ipython",
    "version": 3
   },
   "file_extension": ".py",
   "mimetype": "text/x-python",
   "name": "python",
   "nbconvert_exporter": "python",
   "pygments_lexer": "ipython3",
   "version": "3.8.6"
  },
  "toc": {
   "base_numbering": 1,
   "nav_menu": {},
   "number_sections": false,
   "sideBar": false,
   "skip_h1_title": false,
   "title_cell": "Table of Contents",
   "title_sidebar": "Contents",
   "toc_cell": false,
   "toc_position": {},
   "toc_section_display": false,
   "toc_window_display": false
  }
 },
 "nbformat": 4,
 "nbformat_minor": 2
}
